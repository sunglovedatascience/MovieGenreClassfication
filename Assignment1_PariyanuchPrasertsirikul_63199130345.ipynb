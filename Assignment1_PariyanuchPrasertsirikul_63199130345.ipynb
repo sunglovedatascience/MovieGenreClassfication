{
 "cells": [
  {
   "cell_type": "markdown",
   "source": [
    "# Movie Classification"
   ],
   "metadata": {}
  },
  {
   "cell_type": "markdown",
   "source": [
    "## 1. Web Scrapping"
   ],
   "metadata": {}
  },
  {
   "cell_type": "markdown",
   "source": [
    "ทำการ Scrape โดยเลือกประเภทหนังเป็น Feature Film ในประเทศอเมริกา ตั้งแต่ปี 2018 ถึง 2021"
   ],
   "metadata": {}
  },
  {
   "cell_type": "code",
   "execution_count": 2,
   "source": [
    "from requests import get\r\n",
    "from bs4 import BeautifulSoup\r\n",
    "import pandas as pd\r\n",
    "import numpy as np"
   ],
   "outputs": [],
   "metadata": {}
  },
  {
   "cell_type": "code",
   "execution_count": 2,
   "source": [
    "page_movie = []\r\n",
    "\r\n",
    "for i in [2018, 2019, 2020, 2021]:\r\n",
    "    for j in range(1, 4200, 100):\r\n",
    "        url = \"https://www.imdb.com/search/title/?title_type=feature&release_date=\"+str(i)+\"-01-01,\"+str(i)+\"-12-31&countries=us&sort=alpha,asc&count=100&start=\"+str(j)+\"&ref_=adv_nxt\"\r\n",
    "        response = get(url)\r\n",
    "        html_soup = BeautifulSoup(response.text, 'html.parser')\r\n",
    "        movie_containers = html_soup.find_all('div', class_ = 'lister-item mode-advanced')\r\n",
    "\r\n",
    "        names = []\r\n",
    "        years = []\r\n",
    "        genres = []\r\n",
    "        descriptions = []\r\n",
    "\r\n",
    "        for container in movie_containers:\r\n",
    "\r\n",
    "            if (container.find('span', attrs = {'class': 'genre'}) is not None) and ((container.find_all('p', attrs={'class':'text-muted'})[-1].text) != '\\nAdd a Plot\\n'):\r\n",
    "\r\n",
    "                name = container.h3.a.text\r\n",
    "                names.append(name)\r\n",
    "\r\n",
    "                year = container.h3.find('span', class_ = 'lister-item-year').text\r\n",
    "                years.append(year)\r\n",
    "\r\n",
    "                genre = container.find('span', attrs = {'class': 'genre'}).text\r\n",
    "                genres.append(genre)\r\n",
    "\r\n",
    "                description = container.find_all('p', attrs={'class':'text-muted'})[-1].text\r\n",
    "                descriptions.append(description)\r\n",
    "        test_df = pd.DataFrame({'movie': names,\r\n",
    "                           'year': years,\r\n",
    "                           'genres': genres,\r\n",
    "                           'descriptions': descriptions})\r\n",
    "        page_movie.append(test_df)"
   ],
   "outputs": [],
   "metadata": {}
  },
  {
   "cell_type": "code",
   "execution_count": 3,
   "source": [
    "page_movie[0]"
   ],
   "outputs": [
    {
     "output_type": "execute_result",
     "data": {
      "text/html": [
       "<div>\n",
       "<style scoped>\n",
       "    .dataframe tbody tr th:only-of-type {\n",
       "        vertical-align: middle;\n",
       "    }\n",
       "\n",
       "    .dataframe tbody tr th {\n",
       "        vertical-align: top;\n",
       "    }\n",
       "\n",
       "    .dataframe thead th {\n",
       "        text-align: right;\n",
       "    }\n",
       "</style>\n",
       "<table border=\"1\" class=\"dataframe\">\n",
       "  <thead>\n",
       "    <tr style=\"text-align: right;\">\n",
       "      <th></th>\n",
       "      <th>movie</th>\n",
       "      <th>year</th>\n",
       "      <th>genres</th>\n",
       "      <th>descriptions</th>\n",
       "    </tr>\n",
       "  </thead>\n",
       "  <tbody>\n",
       "    <tr>\n",
       "      <th>0</th>\n",
       "      <td>#1915House</td>\n",
       "      <td>(2018)</td>\n",
       "      <td>\\nHorror, Thriller</td>\n",
       "      <td>\\nA century of secrets are hidden behind the f...</td>\n",
       "    </tr>\n",
       "    <tr>\n",
       "      <th>1</th>\n",
       "      <td>#SquadGoals</td>\n",
       "      <td>(2018)</td>\n",
       "      <td>\\nDrama, Thriller</td>\n",
       "      <td>\\nSamantha is a serious journalist, both for t...</td>\n",
       "    </tr>\n",
       "    <tr>\n",
       "      <th>2</th>\n",
       "      <td>#Victoria</td>\n",
       "      <td>(2018)</td>\n",
       "      <td>\\nAction, Drama</td>\n",
       "      <td>\\nVictoria moves from out of town into the poo...</td>\n",
       "    </tr>\n",
       "    <tr>\n",
       "      <th>3</th>\n",
       "      <td>1 Angry Black Man</td>\n",
       "      <td>(2018)</td>\n",
       "      <td>\\nDrama</td>\n",
       "      <td>\\nMike Anderson is a senior at the quintessent...</td>\n",
       "    </tr>\n",
       "    <tr>\n",
       "      <th>4</th>\n",
       "      <td>1 Dead man, 6 Suspects, $65 Million</td>\n",
       "      <td>(2018)</td>\n",
       "      <td>\\nMystery</td>\n",
       "      <td>\\nA low budget but slick \"who done it\" involvi...</td>\n",
       "    </tr>\n",
       "    <tr>\n",
       "      <th>...</th>\n",
       "      <td>...</td>\n",
       "      <td>...</td>\n",
       "      <td>...</td>\n",
       "      <td>...</td>\n",
       "    </tr>\n",
       "    <tr>\n",
       "      <th>82</th>\n",
       "      <td>A Motion Selfie</td>\n",
       "      <td>(2018)</td>\n",
       "      <td>\\nBiography, Comedy, Drama</td>\n",
       "      <td>\\n\"A Motion Selfie\" is one-of-a-kind DIY filmm...</td>\n",
       "    </tr>\n",
       "    <tr>\n",
       "      <th>83</th>\n",
       "      <td>A Murder of Innocence</td>\n",
       "      <td>(2018)</td>\n",
       "      <td>\\nCrime</td>\n",
       "      <td>\\nBased on a true story, a community is rocked...</td>\n",
       "    </tr>\n",
       "    <tr>\n",
       "      <th>84</th>\n",
       "      <td>A Natural Disaster</td>\n",
       "      <td>(2018)</td>\n",
       "      <td>\\nDrama</td>\n",
       "      <td>\\n24 hours after an earthquake shakes Los Ange...</td>\n",
       "    </tr>\n",
       "    <tr>\n",
       "      <th>85</th>\n",
       "      <td>A Nice Quiet Life</td>\n",
       "      <td>(2018)</td>\n",
       "      <td>\\nDrama, Romance</td>\n",
       "      <td>\\nTwo college students fall in love one year b...</td>\n",
       "    </tr>\n",
       "    <tr>\n",
       "      <th>86</th>\n",
       "      <td>A Night to Regret</td>\n",
       "      <td>(2018)</td>\n",
       "      <td>\\nThriller</td>\n",
       "      <td>\\nWhen Chelsea meets up with her estranged chi...</td>\n",
       "    </tr>\n",
       "  </tbody>\n",
       "</table>\n",
       "<p>87 rows × 4 columns</p>\n",
       "</div>"
      ],
      "text/plain": [
       "                                  movie    year  \\\n",
       "0                            #1915House  (2018)   \n",
       "1                           #SquadGoals  (2018)   \n",
       "2                             #Victoria  (2018)   \n",
       "3                     1 Angry Black Man  (2018)   \n",
       "4   1 Dead man, 6 Suspects, $65 Million  (2018)   \n",
       "..                                  ...     ...   \n",
       "82                      A Motion Selfie  (2018)   \n",
       "83                A Murder of Innocence  (2018)   \n",
       "84                   A Natural Disaster  (2018)   \n",
       "85                    A Nice Quiet Life  (2018)   \n",
       "86                    A Night to Regret  (2018)   \n",
       "\n",
       "                                    genres  \\\n",
       "0           \\nHorror, Thriller               \n",
       "1            \\nDrama, Thriller               \n",
       "2              \\nAction, Drama               \n",
       "3                      \\nDrama               \n",
       "4                    \\nMystery               \n",
       "..                                     ...   \n",
       "82  \\nBiography, Comedy, Drama               \n",
       "83                     \\nCrime               \n",
       "84                     \\nDrama               \n",
       "85            \\nDrama, Romance               \n",
       "86                  \\nThriller               \n",
       "\n",
       "                                         descriptions  \n",
       "0   \\nA century of secrets are hidden behind the f...  \n",
       "1   \\nSamantha is a serious journalist, both for t...  \n",
       "2   \\nVictoria moves from out of town into the poo...  \n",
       "3   \\nMike Anderson is a senior at the quintessent...  \n",
       "4   \\nA low budget but slick \"who done it\" involvi...  \n",
       "..                                                ...  \n",
       "82  \\n\"A Motion Selfie\" is one-of-a-kind DIY filmm...  \n",
       "83  \\nBased on a true story, a community is rocked...  \n",
       "84  \\n24 hours after an earthquake shakes Los Ange...  \n",
       "85  \\nTwo college students fall in love one year b...  \n",
       "86  \\nWhen Chelsea meets up with her estranged chi...  \n",
       "\n",
       "[87 rows x 4 columns]"
      ]
     },
     "metadata": {},
     "execution_count": 3
    }
   ],
   "metadata": {
    "scrolled": false
   }
  },
  {
   "cell_type": "code",
   "execution_count": 4,
   "source": [
    "df = pd.concat(page_movie).reset_index(drop=True)\r\n",
    "df"
   ],
   "outputs": [
    {
     "output_type": "execute_result",
     "data": {
      "text/html": [
       "<div>\n",
       "<style scoped>\n",
       "    .dataframe tbody tr th:only-of-type {\n",
       "        vertical-align: middle;\n",
       "    }\n",
       "\n",
       "    .dataframe tbody tr th {\n",
       "        vertical-align: top;\n",
       "    }\n",
       "\n",
       "    .dataframe thead th {\n",
       "        text-align: right;\n",
       "    }\n",
       "</style>\n",
       "<table border=\"1\" class=\"dataframe\">\n",
       "  <thead>\n",
       "    <tr style=\"text-align: right;\">\n",
       "      <th></th>\n",
       "      <th>movie</th>\n",
       "      <th>year</th>\n",
       "      <th>genres</th>\n",
       "      <th>descriptions</th>\n",
       "    </tr>\n",
       "  </thead>\n",
       "  <tbody>\n",
       "    <tr>\n",
       "      <th>0</th>\n",
       "      <td>#1915House</td>\n",
       "      <td>(2018)</td>\n",
       "      <td>\\nHorror, Thriller</td>\n",
       "      <td>\\nA century of secrets are hidden behind the f...</td>\n",
       "    </tr>\n",
       "    <tr>\n",
       "      <th>1</th>\n",
       "      <td>#SquadGoals</td>\n",
       "      <td>(2018)</td>\n",
       "      <td>\\nDrama, Thriller</td>\n",
       "      <td>\\nSamantha is a serious journalist, both for t...</td>\n",
       "    </tr>\n",
       "    <tr>\n",
       "      <th>2</th>\n",
       "      <td>#Victoria</td>\n",
       "      <td>(2018)</td>\n",
       "      <td>\\nAction, Drama</td>\n",
       "      <td>\\nVictoria moves from out of town into the poo...</td>\n",
       "    </tr>\n",
       "    <tr>\n",
       "      <th>3</th>\n",
       "      <td>1 Angry Black Man</td>\n",
       "      <td>(2018)</td>\n",
       "      <td>\\nDrama</td>\n",
       "      <td>\\nMike Anderson is a senior at the quintessent...</td>\n",
       "    </tr>\n",
       "    <tr>\n",
       "      <th>4</th>\n",
       "      <td>1 Dead man, 6 Suspects, $65 Million</td>\n",
       "      <td>(2018)</td>\n",
       "      <td>\\nMystery</td>\n",
       "      <td>\\nA low budget but slick \"who done it\" involvi...</td>\n",
       "    </tr>\n",
       "    <tr>\n",
       "      <th>...</th>\n",
       "      <td>...</td>\n",
       "      <td>...</td>\n",
       "      <td>...</td>\n",
       "      <td>...</td>\n",
       "    </tr>\n",
       "    <tr>\n",
       "      <th>12369</th>\n",
       "      <td>Zo in Exile</td>\n",
       "      <td>(2021)</td>\n",
       "      <td>\\nFantasy</td>\n",
       "      <td>\\nZo and friends venture off for a weekend get...</td>\n",
       "    </tr>\n",
       "    <tr>\n",
       "      <th>12370</th>\n",
       "      <td>Zone Drifter</td>\n",
       "      <td>(2021)</td>\n",
       "      <td>\\nSci-Fi</td>\n",
       "      <td>\\nIn the distant future, a former soldier batt...</td>\n",
       "    </tr>\n",
       "    <tr>\n",
       "      <th>12371</th>\n",
       "      <td>Zooey</td>\n",
       "      <td>(2021)</td>\n",
       "      <td>\\nComedy, Drama, Sci-Fi</td>\n",
       "      <td>\\nWhen a young boy, Noah, meets Zooey, a young...</td>\n",
       "    </tr>\n",
       "    <tr>\n",
       "      <th>12372</th>\n",
       "      <td>Zwtral</td>\n",
       "      <td>(2021)</td>\n",
       "      <td>\\nMystery</td>\n",
       "      <td>\\nMaking trades is his life. Justin finds hims...</td>\n",
       "    </tr>\n",
       "    <tr>\n",
       "      <th>12373</th>\n",
       "      <td>d'ILLUSION: The Houdini Musical</td>\n",
       "      <td>(2021)</td>\n",
       "      <td>\\nBiography, Drama, Musical</td>\n",
       "      <td>\\nThe University of Cincinnati - College-Conse...</td>\n",
       "    </tr>\n",
       "  </tbody>\n",
       "</table>\n",
       "<p>12374 rows × 4 columns</p>\n",
       "</div>"
      ],
      "text/plain": [
       "                                     movie    year  \\\n",
       "0                               #1915House  (2018)   \n",
       "1                              #SquadGoals  (2018)   \n",
       "2                                #Victoria  (2018)   \n",
       "3                        1 Angry Black Man  (2018)   \n",
       "4      1 Dead man, 6 Suspects, $65 Million  (2018)   \n",
       "...                                    ...     ...   \n",
       "12369                          Zo in Exile  (2021)   \n",
       "12370                         Zone Drifter  (2021)   \n",
       "12371                                Zooey  (2021)   \n",
       "12372                               Zwtral  (2021)   \n",
       "12373      d'ILLUSION: The Houdini Musical  (2021)   \n",
       "\n",
       "                                        genres  \\\n",
       "0               \\nHorror, Thriller               \n",
       "1                \\nDrama, Thriller               \n",
       "2                  \\nAction, Drama               \n",
       "3                          \\nDrama               \n",
       "4                        \\nMystery               \n",
       "...                                        ...   \n",
       "12369                    \\nFantasy               \n",
       "12370                     \\nSci-Fi               \n",
       "12371      \\nComedy, Drama, Sci-Fi               \n",
       "12372                    \\nMystery               \n",
       "12373  \\nBiography, Drama, Musical               \n",
       "\n",
       "                                            descriptions  \n",
       "0      \\nA century of secrets are hidden behind the f...  \n",
       "1      \\nSamantha is a serious journalist, both for t...  \n",
       "2      \\nVictoria moves from out of town into the poo...  \n",
       "3      \\nMike Anderson is a senior at the quintessent...  \n",
       "4      \\nA low budget but slick \"who done it\" involvi...  \n",
       "...                                                  ...  \n",
       "12369  \\nZo and friends venture off for a weekend get...  \n",
       "12370  \\nIn the distant future, a former soldier batt...  \n",
       "12371  \\nWhen a young boy, Noah, meets Zooey, a young...  \n",
       "12372  \\nMaking trades is his life. Justin finds hims...  \n",
       "12373  \\nThe University of Cincinnati - College-Conse...  \n",
       "\n",
       "[12374 rows x 4 columns]"
      ]
     },
     "metadata": {},
     "execution_count": 4
    }
   ],
   "metadata": {}
  },
  {
   "cell_type": "markdown",
   "source": [
    "## 2. Data Preparation"
   ],
   "metadata": {}
  },
  {
   "cell_type": "markdown",
   "source": [
    "### year"
   ],
   "metadata": {}
  },
  {
   "cell_type": "code",
   "execution_count": 5,
   "source": [
    "df.year.unique()"
   ],
   "outputs": [
    {
     "output_type": "execute_result",
     "data": {
      "text/plain": [
       "array(['(2018)', '(I) (2018)', '', '(II) (2018)', '(III) (2018)',\n",
       "       '(IV) (2018)', '(V) (2018)', '(IX) (2018)', '(XXIII)',\n",
       "       '(VI) (2018)', '(VIII) (2018)', '(2019)', '(VII)',\n",
       "       '(XVIII) (2018)', '(I)', '(II)', '(XVI) (2018)', '(II) (2019)',\n",
       "       '(I) (2019)', '(IV) (2019)', '(V) (2019)', '(III) (2019)',\n",
       "       '(VI) (2019)', '(VIII) (2019)', '(XXXV) (2019)', '(VII) (2019)',\n",
       "       '(X) (2019)', '(IX) (2019)', '(XII) (2019)', '(2020)',\n",
       "       '(III) (2020)', '(II) (2020)', '(I) (2020)', '(XXI) (2020)',\n",
       "       '(V) (2020)', '(VI) (2020)', '(IV) (2020)', '(2021)',\n",
       "       '(VIII) (2020)', '(XI) (2020)', '(I) (2021)', '(II) (2021)',\n",
       "       '(IV) (2021)', '(XII) (2021)', '(III) (2021)', '(VI) (2021)',\n",
       "       '(V) (2021)', '(VI)'], dtype=object)"
      ]
     },
     "metadata": {},
     "execution_count": 5
    }
   ],
   "metadata": {}
  },
  {
   "cell_type": "code",
   "execution_count": 6,
   "source": [
    "df.year = df.year.str.extract('(\\d+)')\r\n",
    "df.year = df.year.ffill(axis = 0)\r\n",
    "df.year.unique()"
   ],
   "outputs": [
    {
     "output_type": "execute_result",
     "data": {
      "text/plain": [
       "array(['2018', '2019', '2020', '2021'], dtype=object)"
      ]
     },
     "metadata": {},
     "execution_count": 6
    }
   ],
   "metadata": {}
  },
  {
   "cell_type": "code",
   "execution_count": 7,
   "source": [
    "df.groupby(['year']).size().reset_index(name='count')"
   ],
   "outputs": [
    {
     "output_type": "execute_result",
     "data": {
      "text/html": [
       "<div>\n",
       "<style scoped>\n",
       "    .dataframe tbody tr th:only-of-type {\n",
       "        vertical-align: middle;\n",
       "    }\n",
       "\n",
       "    .dataframe tbody tr th {\n",
       "        vertical-align: top;\n",
       "    }\n",
       "\n",
       "    .dataframe thead th {\n",
       "        text-align: right;\n",
       "    }\n",
       "</style>\n",
       "<table border=\"1\" class=\"dataframe\">\n",
       "  <thead>\n",
       "    <tr style=\"text-align: right;\">\n",
       "      <th></th>\n",
       "      <th>year</th>\n",
       "      <th>count</th>\n",
       "    </tr>\n",
       "  </thead>\n",
       "  <tbody>\n",
       "    <tr>\n",
       "      <th>0</th>\n",
       "      <td>2018</td>\n",
       "      <td>3359</td>\n",
       "    </tr>\n",
       "    <tr>\n",
       "      <th>1</th>\n",
       "      <td>2019</td>\n",
       "      <td>2907</td>\n",
       "    </tr>\n",
       "    <tr>\n",
       "      <th>2</th>\n",
       "      <td>2020</td>\n",
       "      <td>2929</td>\n",
       "    </tr>\n",
       "    <tr>\n",
       "      <th>3</th>\n",
       "      <td>2021</td>\n",
       "      <td>3179</td>\n",
       "    </tr>\n",
       "  </tbody>\n",
       "</table>\n",
       "</div>"
      ],
      "text/plain": [
       "   year  count\n",
       "0  2018   3359\n",
       "1  2019   2907\n",
       "2  2020   2929\n",
       "3  2021   3179"
      ]
     },
     "metadata": {},
     "execution_count": 7
    }
   ],
   "metadata": {}
  },
  {
   "cell_type": "code",
   "execution_count": 8,
   "source": [
    "df.genres = df.genres.str.strip()\r\n",
    "df.head()"
   ],
   "outputs": [
    {
     "output_type": "execute_result",
     "data": {
      "text/html": [
       "<div>\n",
       "<style scoped>\n",
       "    .dataframe tbody tr th:only-of-type {\n",
       "        vertical-align: middle;\n",
       "    }\n",
       "\n",
       "    .dataframe tbody tr th {\n",
       "        vertical-align: top;\n",
       "    }\n",
       "\n",
       "    .dataframe thead th {\n",
       "        text-align: right;\n",
       "    }\n",
       "</style>\n",
       "<table border=\"1\" class=\"dataframe\">\n",
       "  <thead>\n",
       "    <tr style=\"text-align: right;\">\n",
       "      <th></th>\n",
       "      <th>movie</th>\n",
       "      <th>year</th>\n",
       "      <th>genres</th>\n",
       "      <th>descriptions</th>\n",
       "    </tr>\n",
       "  </thead>\n",
       "  <tbody>\n",
       "    <tr>\n",
       "      <th>0</th>\n",
       "      <td>#1915House</td>\n",
       "      <td>2018</td>\n",
       "      <td>Horror, Thriller</td>\n",
       "      <td>\\nA century of secrets are hidden behind the f...</td>\n",
       "    </tr>\n",
       "    <tr>\n",
       "      <th>1</th>\n",
       "      <td>#SquadGoals</td>\n",
       "      <td>2018</td>\n",
       "      <td>Drama, Thriller</td>\n",
       "      <td>\\nSamantha is a serious journalist, both for t...</td>\n",
       "    </tr>\n",
       "    <tr>\n",
       "      <th>2</th>\n",
       "      <td>#Victoria</td>\n",
       "      <td>2018</td>\n",
       "      <td>Action, Drama</td>\n",
       "      <td>\\nVictoria moves from out of town into the poo...</td>\n",
       "    </tr>\n",
       "    <tr>\n",
       "      <th>3</th>\n",
       "      <td>1 Angry Black Man</td>\n",
       "      <td>2018</td>\n",
       "      <td>Drama</td>\n",
       "      <td>\\nMike Anderson is a senior at the quintessent...</td>\n",
       "    </tr>\n",
       "    <tr>\n",
       "      <th>4</th>\n",
       "      <td>1 Dead man, 6 Suspects, $65 Million</td>\n",
       "      <td>2018</td>\n",
       "      <td>Mystery</td>\n",
       "      <td>\\nA low budget but slick \"who done it\" involvi...</td>\n",
       "    </tr>\n",
       "  </tbody>\n",
       "</table>\n",
       "</div>"
      ],
      "text/plain": [
       "                                 movie  year            genres  \\\n",
       "0                           #1915House  2018  Horror, Thriller   \n",
       "1                          #SquadGoals  2018   Drama, Thriller   \n",
       "2                            #Victoria  2018     Action, Drama   \n",
       "3                    1 Angry Black Man  2018             Drama   \n",
       "4  1 Dead man, 6 Suspects, $65 Million  2018           Mystery   \n",
       "\n",
       "                                        descriptions  \n",
       "0  \\nA century of secrets are hidden behind the f...  \n",
       "1  \\nSamantha is a serious journalist, both for t...  \n",
       "2  \\nVictoria moves from out of town into the poo...  \n",
       "3  \\nMike Anderson is a senior at the quintessent...  \n",
       "4  \\nA low budget but slick \"who done it\" involvi...  "
      ]
     },
     "metadata": {},
     "execution_count": 8
    }
   ],
   "metadata": {}
  },
  {
   "cell_type": "code",
   "execution_count": 3,
   "source": [
    "#df.to_pickle('df.pickle')\r\n",
    "df = pd.read_pickle('df.pickle')\r\n",
    "df.head()"
   ],
   "outputs": [
    {
     "output_type": "execute_result",
     "data": {
      "text/html": [
       "<div>\n",
       "<style scoped>\n",
       "    .dataframe tbody tr th:only-of-type {\n",
       "        vertical-align: middle;\n",
       "    }\n",
       "\n",
       "    .dataframe tbody tr th {\n",
       "        vertical-align: top;\n",
       "    }\n",
       "\n",
       "    .dataframe thead th {\n",
       "        text-align: right;\n",
       "    }\n",
       "</style>\n",
       "<table border=\"1\" class=\"dataframe\">\n",
       "  <thead>\n",
       "    <tr style=\"text-align: right;\">\n",
       "      <th></th>\n",
       "      <th>movie</th>\n",
       "      <th>year</th>\n",
       "      <th>genres</th>\n",
       "      <th>descriptions</th>\n",
       "    </tr>\n",
       "  </thead>\n",
       "  <tbody>\n",
       "    <tr>\n",
       "      <th>0</th>\n",
       "      <td>#1915House</td>\n",
       "      <td>2018</td>\n",
       "      <td>Horror, Thriller</td>\n",
       "      <td>\\nA century of secrets are hidden behind the f...</td>\n",
       "    </tr>\n",
       "    <tr>\n",
       "      <th>1</th>\n",
       "      <td>#SquadGoals</td>\n",
       "      <td>2018</td>\n",
       "      <td>Drama, Thriller</td>\n",
       "      <td>\\nSamantha is a serious journalist, both for t...</td>\n",
       "    </tr>\n",
       "    <tr>\n",
       "      <th>2</th>\n",
       "      <td>#Victoria</td>\n",
       "      <td>2018</td>\n",
       "      <td>Action, Drama</td>\n",
       "      <td>\\nVictoria moves from out of town into the poo...</td>\n",
       "    </tr>\n",
       "    <tr>\n",
       "      <th>3</th>\n",
       "      <td>1 Angry Black Man</td>\n",
       "      <td>2018</td>\n",
       "      <td>Drama</td>\n",
       "      <td>\\nMike Anderson is a senior at the quintessent...</td>\n",
       "    </tr>\n",
       "    <tr>\n",
       "      <th>4</th>\n",
       "      <td>1 Dead man, 6 Suspects, $65 Million</td>\n",
       "      <td>2018</td>\n",
       "      <td>Mystery</td>\n",
       "      <td>\\nA low budget but slick \"who done it\" involvi...</td>\n",
       "    </tr>\n",
       "  </tbody>\n",
       "</table>\n",
       "</div>"
      ],
      "text/plain": [
       "                                 movie  year            genres  \\\n",
       "0                           #1915House  2018  Horror, Thriller   \n",
       "1                          #SquadGoals  2018   Drama, Thriller   \n",
       "2                            #Victoria  2018     Action, Drama   \n",
       "3                    1 Angry Black Man  2018             Drama   \n",
       "4  1 Dead man, 6 Suspects, $65 Million  2018           Mystery   \n",
       "\n",
       "                                        descriptions  \n",
       "0  \\nA century of secrets are hidden behind the f...  \n",
       "1  \\nSamantha is a serious journalist, both for t...  \n",
       "2  \\nVictoria moves from out of town into the poo...  \n",
       "3  \\nMike Anderson is a senior at the quintessent...  \n",
       "4  \\nA low budget but slick \"who done it\" involvi...  "
      ]
     },
     "metadata": {},
     "execution_count": 3
    }
   ],
   "metadata": {}
  },
  {
   "cell_type": "code",
   "execution_count": 4,
   "source": [
    "import nltk\r\n",
    "from nltk.stem.porter import *\r\n",
    "from nltk.tokenize import sent_tokenize, word_tokenize\r\n",
    "from nltk.corpus import stopwords\r\n",
    "from nltk.stem.porter import *\r\n",
    "\r\n",
    "from sklearn.feature_extraction.text import TfidfVectorizer\r\n",
    "from sklearn.model_selection import train_test_split\r\n",
    "from sklearn.ensemble import RandomForestClassifier\r\n",
    "from sklearn.metrics import f1_score\r\n",
    "from sklearn.feature_extraction.text import TfidfTransformer\r\n",
    "from sklearn.feature_extraction.text import CountVectorizer\r\n",
    "import pickle"
   ],
   "outputs": [],
   "metadata": {}
  },
  {
   "cell_type": "code",
   "execution_count": 5,
   "source": [
    "all_genres = df.genres.tolist()\r\n",
    "all_genres = \", \".join(all_genres)\r\n",
    "all_genres = sorted(list(set(all_genres.split(\", \"))))\r\n",
    "all_genres"
   ],
   "outputs": [
    {
     "output_type": "execute_result",
     "data": {
      "text/plain": [
       "['Action',\n",
       " 'Adventure',\n",
       " 'Animation',\n",
       " 'Biography',\n",
       " 'Comedy',\n",
       " 'Crime',\n",
       " 'Drama',\n",
       " 'Family',\n",
       " 'Fantasy',\n",
       " 'Game-Show',\n",
       " 'History',\n",
       " 'Horror',\n",
       " 'Music',\n",
       " 'Musical',\n",
       " 'Mystery',\n",
       " 'News',\n",
       " 'Reality-TV',\n",
       " 'Romance',\n",
       " 'Sci-Fi',\n",
       " 'Sport',\n",
       " 'Talk-Show',\n",
       " 'Thriller',\n",
       " 'War',\n",
       " 'Western']"
      ]
     },
     "metadata": {},
     "execution_count": 5
    }
   ],
   "metadata": {}
  },
  {
   "cell_type": "code",
   "execution_count": 6,
   "source": [
    "for g in all_genres:\r\n",
    "  df[g] = df[\"genres\"].apply(lambda x: 1 if len(set(x.split(\", \")).intersection(set([g]))) > 0 else 0)"
   ],
   "outputs": [],
   "metadata": {}
  },
  {
   "cell_type": "code",
   "execution_count": 7,
   "source": [
    "df.descriptions = df.descriptions.str.strip()\r\n",
    "df.descriptions = df.descriptions.str.replace(\r\n",
    "    '...                See full summary\\xa0»', '')\r\n",
    "df.head()\r\n"
   ],
   "outputs": [
    {
     "output_type": "execute_result",
     "data": {
      "text/html": [
       "<div>\n",
       "<style scoped>\n",
       "    .dataframe tbody tr th:only-of-type {\n",
       "        vertical-align: middle;\n",
       "    }\n",
       "\n",
       "    .dataframe tbody tr th {\n",
       "        vertical-align: top;\n",
       "    }\n",
       "\n",
       "    .dataframe thead th {\n",
       "        text-align: right;\n",
       "    }\n",
       "</style>\n",
       "<table border=\"1\" class=\"dataframe\">\n",
       "  <thead>\n",
       "    <tr style=\"text-align: right;\">\n",
       "      <th></th>\n",
       "      <th>movie</th>\n",
       "      <th>year</th>\n",
       "      <th>genres</th>\n",
       "      <th>descriptions</th>\n",
       "      <th>Action</th>\n",
       "      <th>Adventure</th>\n",
       "      <th>Animation</th>\n",
       "      <th>Biography</th>\n",
       "      <th>Comedy</th>\n",
       "      <th>Crime</th>\n",
       "      <th>...</th>\n",
       "      <th>Mystery</th>\n",
       "      <th>News</th>\n",
       "      <th>Reality-TV</th>\n",
       "      <th>Romance</th>\n",
       "      <th>Sci-Fi</th>\n",
       "      <th>Sport</th>\n",
       "      <th>Talk-Show</th>\n",
       "      <th>Thriller</th>\n",
       "      <th>War</th>\n",
       "      <th>Western</th>\n",
       "    </tr>\n",
       "  </thead>\n",
       "  <tbody>\n",
       "    <tr>\n",
       "      <th>0</th>\n",
       "      <td>#1915House</td>\n",
       "      <td>2018</td>\n",
       "      <td>Horror, Thriller</td>\n",
       "      <td>A century of secrets are hidden behind the fre...</td>\n",
       "      <td>0</td>\n",
       "      <td>0</td>\n",
       "      <td>0</td>\n",
       "      <td>0</td>\n",
       "      <td>0</td>\n",
       "      <td>0</td>\n",
       "      <td>...</td>\n",
       "      <td>0</td>\n",
       "      <td>0</td>\n",
       "      <td>0</td>\n",
       "      <td>0</td>\n",
       "      <td>0</td>\n",
       "      <td>0</td>\n",
       "      <td>0</td>\n",
       "      <td>1</td>\n",
       "      <td>0</td>\n",
       "      <td>0</td>\n",
       "    </tr>\n",
       "    <tr>\n",
       "      <th>1</th>\n",
       "      <td>#SquadGoals</td>\n",
       "      <td>2018</td>\n",
       "      <td>Drama, Thriller</td>\n",
       "      <td>Samantha is a serious journalist, both for the...</td>\n",
       "      <td>0</td>\n",
       "      <td>0</td>\n",
       "      <td>0</td>\n",
       "      <td>0</td>\n",
       "      <td>0</td>\n",
       "      <td>0</td>\n",
       "      <td>...</td>\n",
       "      <td>0</td>\n",
       "      <td>0</td>\n",
       "      <td>0</td>\n",
       "      <td>0</td>\n",
       "      <td>0</td>\n",
       "      <td>0</td>\n",
       "      <td>0</td>\n",
       "      <td>1</td>\n",
       "      <td>0</td>\n",
       "      <td>0</td>\n",
       "    </tr>\n",
       "    <tr>\n",
       "      <th>2</th>\n",
       "      <td>#Victoria</td>\n",
       "      <td>2018</td>\n",
       "      <td>Action, Drama</td>\n",
       "      <td>Victoria moves from out of town into the poor ...</td>\n",
       "      <td>1</td>\n",
       "      <td>0</td>\n",
       "      <td>0</td>\n",
       "      <td>0</td>\n",
       "      <td>0</td>\n",
       "      <td>0</td>\n",
       "      <td>...</td>\n",
       "      <td>0</td>\n",
       "      <td>0</td>\n",
       "      <td>0</td>\n",
       "      <td>0</td>\n",
       "      <td>0</td>\n",
       "      <td>0</td>\n",
       "      <td>0</td>\n",
       "      <td>0</td>\n",
       "      <td>0</td>\n",
       "      <td>0</td>\n",
       "    </tr>\n",
       "    <tr>\n",
       "      <th>3</th>\n",
       "      <td>1 Angry Black Man</td>\n",
       "      <td>2018</td>\n",
       "      <td>Drama</td>\n",
       "      <td>Mike Anderson is a senior at the quintessentia...</td>\n",
       "      <td>0</td>\n",
       "      <td>0</td>\n",
       "      <td>0</td>\n",
       "      <td>0</td>\n",
       "      <td>0</td>\n",
       "      <td>0</td>\n",
       "      <td>...</td>\n",
       "      <td>0</td>\n",
       "      <td>0</td>\n",
       "      <td>0</td>\n",
       "      <td>0</td>\n",
       "      <td>0</td>\n",
       "      <td>0</td>\n",
       "      <td>0</td>\n",
       "      <td>0</td>\n",
       "      <td>0</td>\n",
       "      <td>0</td>\n",
       "    </tr>\n",
       "    <tr>\n",
       "      <th>4</th>\n",
       "      <td>1 Dead man, 6 Suspects, $65 Million</td>\n",
       "      <td>2018</td>\n",
       "      <td>Mystery</td>\n",
       "      <td>A low budget but slick \"who done it\" involving...</td>\n",
       "      <td>0</td>\n",
       "      <td>0</td>\n",
       "      <td>0</td>\n",
       "      <td>0</td>\n",
       "      <td>0</td>\n",
       "      <td>0</td>\n",
       "      <td>...</td>\n",
       "      <td>1</td>\n",
       "      <td>0</td>\n",
       "      <td>0</td>\n",
       "      <td>0</td>\n",
       "      <td>0</td>\n",
       "      <td>0</td>\n",
       "      <td>0</td>\n",
       "      <td>0</td>\n",
       "      <td>0</td>\n",
       "      <td>0</td>\n",
       "    </tr>\n",
       "  </tbody>\n",
       "</table>\n",
       "<p>5 rows × 28 columns</p>\n",
       "</div>"
      ],
      "text/plain": [
       "                                 movie  year            genres  \\\n",
       "0                           #1915House  2018  Horror, Thriller   \n",
       "1                          #SquadGoals  2018   Drama, Thriller   \n",
       "2                            #Victoria  2018     Action, Drama   \n",
       "3                    1 Angry Black Man  2018             Drama   \n",
       "4  1 Dead man, 6 Suspects, $65 Million  2018           Mystery   \n",
       "\n",
       "                                        descriptions  Action  Adventure  \\\n",
       "0  A century of secrets are hidden behind the fre...       0          0   \n",
       "1  Samantha is a serious journalist, both for the...       0          0   \n",
       "2  Victoria moves from out of town into the poor ...       1          0   \n",
       "3  Mike Anderson is a senior at the quintessentia...       0          0   \n",
       "4  A low budget but slick \"who done it\" involving...       0          0   \n",
       "\n",
       "   Animation  Biography  Comedy  Crime  ...  Mystery  News  Reality-TV  \\\n",
       "0          0          0       0      0  ...        0     0           0   \n",
       "1          0          0       0      0  ...        0     0           0   \n",
       "2          0          0       0      0  ...        0     0           0   \n",
       "3          0          0       0      0  ...        0     0           0   \n",
       "4          0          0       0      0  ...        1     0           0   \n",
       "\n",
       "   Romance  Sci-Fi  Sport  Talk-Show  Thriller  War  Western  \n",
       "0        0       0      0          0         1    0        0  \n",
       "1        0       0      0          0         1    0        0  \n",
       "2        0       0      0          0         0    0        0  \n",
       "3        0       0      0          0         0    0        0  \n",
       "4        0       0      0          0         0    0        0  \n",
       "\n",
       "[5 rows x 28 columns]"
      ]
     },
     "metadata": {},
     "execution_count": 7
    }
   ],
   "metadata": {}
  },
  {
   "cell_type": "code",
   "execution_count": 9,
   "source": [
    "def stopword_removal(x, stpws=stopwords.words(\"english\")):\r\n",
    "  return list(set(x).difference(set(stpws)))\r\n",
    "\r\n",
    "def lemmatization(x, stemmer=PorterStemmer()):\r\n",
    "  return [stemmer.stem(i) for i in x]\r\n",
    "\r\n",
    "def number_removal(x):\r\n",
    "  return [i for i in x if not i.isnumeric()]"
   ],
   "outputs": [],
   "metadata": {}
  },
  {
   "cell_type": "code",
   "execution_count": 10,
   "source": [
    "df[\"corpus\"] = df[\"descriptions\"].apply(lambda x: word_tokenize(x))\r\n",
    "df[\"corpus\"] = df[\"corpus\"].apply(lambda x: stopword_removal(x))\r\n",
    "df[\"corpus\"] = df[\"corpus\"].apply(lambda x: lemmatization(x))\r\n",
    "df[\"corpus\"] = df[\"corpus\"].apply(lambda x: number_removal(x))\r\n",
    "df[\"corpus\"] = df[\"corpus\"].apply(lambda x: \" \".join(x))\r\n",
    "corpus = df[\"corpus\"].tolist()\r\n"
   ],
   "outputs": [],
   "metadata": {}
  },
  {
   "cell_type": "code",
   "execution_count": 11,
   "source": [
    "vectorizer = TfidfVectorizer()\r\n",
    "tfidf = vectorizer.fit_transform(corpus)\r\n",
    "X = tfidf.toarray()\r\n",
    "y = df.iloc[:, 4:28].values\r\n"
   ],
   "outputs": [],
   "metadata": {}
  },
  {
   "cell_type": "code",
   "execution_count": 12,
   "source": [
    "X"
   ],
   "outputs": [
    {
     "output_type": "execute_result",
     "data": {
      "text/plain": [
       "array([[0., 0., 0., ..., 0., 0., 0.],\n",
       "       [0., 0., 0., ..., 0., 0., 0.],\n",
       "       [0., 0., 0., ..., 0., 0., 0.],\n",
       "       ...,\n",
       "       [0., 0., 0., ..., 0., 0., 0.],\n",
       "       [0., 0., 0., ..., 0., 0., 0.],\n",
       "       [0., 0., 0., ..., 0., 0., 0.]])"
      ]
     },
     "metadata": {},
     "execution_count": 12
    }
   ],
   "metadata": {}
  },
  {
   "cell_type": "code",
   "execution_count": 13,
   "source": [
    "y"
   ],
   "outputs": [
    {
     "output_type": "execute_result",
     "data": {
      "text/plain": [
       "array([[0, 0, 0, ..., 1, 0, 0],\n",
       "       [0, 0, 0, ..., 1, 0, 0],\n",
       "       [1, 0, 0, ..., 0, 0, 0],\n",
       "       ...,\n",
       "       [0, 0, 0, ..., 0, 0, 0],\n",
       "       [0, 0, 0, ..., 0, 0, 0],\n",
       "       [0, 0, 0, ..., 0, 0, 0]], dtype=int64)"
      ]
     },
     "metadata": {},
     "execution_count": 13
    }
   ],
   "metadata": {}
  },
  {
   "cell_type": "markdown",
   "source": [
    "## Classification without LDA"
   ],
   "metadata": {}
  },
  {
   "cell_type": "code",
   "execution_count": 14,
   "source": [
    "X_train, X_test, y_train, y_test = train_test_split(X, y, test_size=0.2, random_state=42)"
   ],
   "outputs": [],
   "metadata": {}
  },
  {
   "cell_type": "code",
   "execution_count": 15,
   "source": [
    "rf = RandomForestClassifier(random_state=42)\r\n",
    "rf.fit(X_train, y_train)"
   ],
   "outputs": [
    {
     "output_type": "execute_result",
     "data": {
      "text/plain": [
       "RandomForestClassifier(random_state=42)"
      ]
     },
     "metadata": {},
     "execution_count": 15
    }
   ],
   "metadata": {}
  },
  {
   "cell_type": "code",
   "execution_count": 16,
   "source": [
    "filename = 'rf_withoutLDA.sav'\r\n",
    "pickle.dump(rf, open(filename, 'wb'))\r\n",
    "rf = pickle.load(open(filename, 'rb'))"
   ],
   "outputs": [],
   "metadata": {}
  },
  {
   "cell_type": "code",
   "execution_count": 17,
   "source": [
    "y_pred = rf.predict(X_test)"
   ],
   "outputs": [],
   "metadata": {}
  },
  {
   "cell_type": "code",
   "execution_count": 94,
   "source": [
    "f1 = []\r\n",
    "for i in range(X_test.shape[0]):\r\n",
    "  f1.append(f1_score(y_test[i], y_pred[i]))\r\n",
    "f1"
   ],
   "outputs": [],
   "metadata": {}
  },
  {
   "cell_type": "code",
   "execution_count": 18,
   "source": [
    "from sklearn.metrics import accuracy_score, classification_report\r\n",
    "from sklearn.model_selection import cross_val_score\r\n",
    "# print(\"10CV score:\", cross_val_score(rf, X_train, y_train, cv=10))\r\n",
    "print('Accuracy score: ' + str(accuracy_score(y_test, y_pred)))\r\n",
    "print(classification_report(y_test, y_pred))\r\n"
   ],
   "outputs": [
    {
     "output_type": "stream",
     "name": "stdout",
     "text": [
      "Accuracy score: 0.17696969696969697\n",
      "              precision    recall  f1-score   support\n",
      "\n",
      "           0       0.50      0.00      0.01       291\n",
      "           1       0.00      0.00      0.00       156\n",
      "           2       0.40      0.02      0.04        94\n",
      "           3       0.00      0.00      0.00        53\n",
      "           4       0.85      0.07      0.14       603\n",
      "           5       0.00      0.00      0.00       201\n",
      "           6       0.61      0.64      0.62      1031\n",
      "           7       0.75      0.03      0.06       104\n",
      "           8       0.00      0.00      0.00        97\n",
      "           9       0.00      0.00      0.00         0\n",
      "          10       0.00      0.00      0.00        35\n",
      "          11       0.81      0.25      0.38       492\n",
      "          12       0.00      0.00      0.00        43\n",
      "          13       0.00      0.00      0.00        40\n",
      "          14       0.00      0.00      0.00       132\n",
      "          15       0.00      0.00      0.00         1\n",
      "          16       0.00      0.00      0.00         1\n",
      "          17       0.00      0.00      0.00       156\n",
      "          18       0.67      0.02      0.03       121\n",
      "          19       0.00      0.00      0.00        20\n",
      "          20       0.00      0.00      0.00         4\n",
      "          21       0.33      0.00      0.00       452\n",
      "          22       0.00      0.00      0.00        15\n",
      "          23       0.00      0.00      0.00        32\n",
      "\n",
      "   micro avg       0.64      0.20      0.30      4174\n",
      "   macro avg       0.21      0.04      0.05      4174\n",
      "weighted avg       0.49      0.20      0.22      4174\n",
      " samples avg       0.33      0.24      0.27      4174\n",
      "\n"
     ]
    },
    {
     "output_type": "stream",
     "name": "stderr",
     "text": [
      "C:\\Users\\SUNG\\anaconda3\\lib\\site-packages\\sklearn\\metrics\\_classification.py:1221: UndefinedMetricWarning: Precision and F-score are ill-defined and being set to 0.0 in labels with no predicted samples. Use `zero_division` parameter to control this behavior.\n",
      "  _warn_prf(average, modifier, msg_start, len(result))\n",
      "C:\\Users\\SUNG\\anaconda3\\lib\\site-packages\\sklearn\\metrics\\_classification.py:1221: UndefinedMetricWarning: Recall and F-score are ill-defined and being set to 0.0 in labels with no true samples. Use `zero_division` parameter to control this behavior.\n",
      "  _warn_prf(average, modifier, msg_start, len(result))\n",
      "C:\\Users\\SUNG\\anaconda3\\lib\\site-packages\\sklearn\\metrics\\_classification.py:1221: UndefinedMetricWarning: Precision and F-score are ill-defined and being set to 0.0 in samples with no predicted labels. Use `zero_division` parameter to control this behavior.\n",
      "  _warn_prf(average, modifier, msg_start, len(result))\n"
     ]
    }
   ],
   "metadata": {}
  },
  {
   "cell_type": "markdown",
   "source": [
    "## LDA"
   ],
   "metadata": {}
  },
  {
   "cell_type": "markdown",
   "source": [
    "* https://machinelearninggeek.com/latent-dirichlet-allocation-using-scikit-learn/\r\n",
    "* https://www.kaggle.com/rajmehra03/topic-modelling-using-lda-and-lsa-in-sklearn"
   ],
   "metadata": {}
  },
  {
   "cell_type": "code",
   "execution_count": 19,
   "source": [
    "from sklearn.decomposition import LatentDirichletAllocation\r\n",
    "\r\n",
    "lda = LatentDirichletAllocation(n_components=5, random_state=42)\r\n",
    "X_train_lda = lda.fit_transform(X_train)\r\n",
    "X_test_lda = lda.transform(X_test)"
   ],
   "outputs": [],
   "metadata": {}
  },
  {
   "cell_type": "code",
   "execution_count": 24,
   "source": [
    "X_train_lda.shape"
   ],
   "outputs": [
    {
     "output_type": "execute_result",
     "data": {
      "text/plain": [
       "(9899, 5)"
      ]
     },
     "metadata": {},
     "execution_count": 24
    }
   ],
   "metadata": {}
  },
  {
   "cell_type": "code",
   "execution_count": 28,
   "source": [
    "sum = 0\r\n",
    "for i in X_train_lda[0]:\r\n",
    "  sum = sum+i\r\n",
    "print(sum)\r\n"
   ],
   "outputs": [
    {
     "output_type": "stream",
     "name": "stdout",
     "text": [
      "1.0\n"
     ]
    }
   ],
   "metadata": {}
  },
  {
   "cell_type": "code",
   "execution_count": 30,
   "source": [
    "X_train_lda"
   ],
   "outputs": [
    {
     "output_type": "execute_result",
     "data": {
      "text/plain": [
       "array([[0.05424718, 0.79178814, 0.05086776, 0.05178877, 0.05130815],\n",
       "       [0.81109309, 0.04763115, 0.04635754, 0.04822748, 0.04669074],\n",
       "       [0.66458149, 0.0461937 , 0.19827261, 0.04633346, 0.04461873],\n",
       "       ...,\n",
       "       [0.04055205, 0.69737742, 0.18189832, 0.040196  , 0.03997621],\n",
       "       [0.04301081, 0.04313345, 0.04174215, 0.8301272 , 0.04198639],\n",
       "       [0.83679679, 0.0413633 , 0.04037391, 0.0408814 , 0.0405846 ]])"
      ]
     },
     "metadata": {},
     "execution_count": 30
    }
   ],
   "metadata": {}
  },
  {
   "cell_type": "code",
   "execution_count": 29,
   "source": [
    "print(\"Description 0: \")\r\n",
    "for i, topic in enumerate(X_train_lda[0]):\r\n",
    "  print(\"Topic \", i, \": \", topic*100, \"%\")\r\n"
   ],
   "outputs": [
    {
     "output_type": "stream",
     "name": "stdout",
     "text": [
      "Description 0: \n",
      "Topic  0 :  5.42471786031428 %\n",
      "Topic  1 :  79.17881443676907 %\n",
      "Topic  2 :  5.086775537772676 %\n",
      "Topic  3 :  5.178877312531499 %\n",
      "Topic  4 :  5.130814852612463 %\n"
     ]
    }
   ],
   "metadata": {}
  },
  {
   "cell_type": "code",
   "execution_count": 45,
   "source": [
    "print('X_train_lda: ', X_train_lda.shape)\r\n",
    "\r\n",
    "lda_components = lda.components_\r\n",
    "terms = vectorizer.get_feature_names()\r\n",
    "\r\n",
    "for index, component in enumerate(lda_components):\r\n",
    "    zipped = zip(terms, component)\r\n",
    "    top_terms_key = sorted(zipped, key=lambda t: t[1], reverse=True)[:7]\r\n",
    "    top_terms_list = list(dict(top_terms_key).keys())\r\n",
    "    print(\"Topic \"+str(index)+\": \", top_terms_list)\r\n"
   ],
   "outputs": [
    {
     "output_type": "stream",
     "name": "stdout",
     "text": [
      "X_train_lda:  (9899, 5)\n",
      "Topic 0:  ['young', 'the', 'life', 'man', 'find', 'one', 'famili']\n",
      "Topic 1:  ['find', 'young', 'life', 'friend', 'the', 'man', 'year']\n",
      "Topic 2:  ['plot', 'unknown', 'wrap', 'film', 'perform', 'gambl', 'base']\n",
      "Topic 3:  ['the', 'new', 'find', 'two', 'stori', 'life', 'famili']\n",
      "Topic 4:  ['the', 'love', 'young', 'day', 'stori', 'film', 'meet']\n"
     ]
    }
   ],
   "metadata": {}
  },
  {
   "cell_type": "code",
   "execution_count": 42,
   "source": [
    "from wordcloud import WordCloud\r\n",
    "import matplotlib.pyplot as plt\r\n",
    "# Generate a word cloud image for given topic\r\n",
    "\r\n",
    "\r\n",
    "def draw_word_cloud(index):\r\n",
    "  imp_words_topic = \"\"\r\n",
    "  comp = lda.components_[index]\r\n",
    "  vocab_comp = zip(terms, component)\r\n",
    "  sorted_words = sorted(vocab_comp, key=lambda x: x[1], reverse=True)[:50]\r\n",
    "  for word in sorted_words:\r\n",
    "    imp_words_topic = imp_words_topic+\" \"+word[0]\r\n",
    "\r\n",
    "  wordcloud = WordCloud(width=600, height=400).generate(imp_words_topic)\r\n",
    "  plt.figure(figsize=(5, 5))\r\n",
    "  plt.imshow(wordcloud)\r\n",
    "  plt.axis(\"off\")\r\n",
    "  plt.tight_layout()\r\n",
    "  plt.show()\r\n"
   ],
   "outputs": [],
   "metadata": {}
  },
  {
   "cell_type": "code",
   "execution_count": 61,
   "source": [
    "draw_word_cloud(4)\r\n"
   ],
   "outputs": [
    {
     "output_type": "display_data",
     "data": {
      "image/png": "[encoded data removed]",
      "text/plain": [
       "<Figure size 360x360 with 1 Axes>"
      ]
     },
     "metadata": {
      "needs_background": "light"
     }
    }
   ],
   "metadata": {}
  },
  {
   "cell_type": "markdown",
   "source": [
    "## Classification with LDA"
   ],
   "metadata": {}
  },
  {
   "cell_type": "code",
   "execution_count": 22,
   "source": [
    "from sklearn.metrics import accuracy_score, classification_report\r\n",
    "from sklearn.model_selection import cross_val_score\r\n",
    "\r\n",
    "rf_lda = RandomForestClassifier(random_state=42)\r\n",
    "rf_lda.fit(X_train_lda, y_train)\r\n",
    "y_pred_lda = rf_lda.predict(X_test_lda)\r\n",
    "print('Accuracy score: ' + str(accuracy_score(y_test, y_pred_lda)))\r\n",
    "print(classification_report(y_test, y_pred_lda))\r\n"
   ],
   "outputs": [
    {
     "output_type": "stream",
     "name": "stdout",
     "text": [
      "Accuracy score: 0.05292929292929293\n",
      "              precision    recall  f1-score   support\n",
      "\n",
      "           0       0.25      0.00      0.01       291\n",
      "           1       0.00      0.00      0.00       156\n",
      "           2       0.33      0.01      0.02        94\n",
      "           3       0.00      0.00      0.00        53\n",
      "           4       0.28      0.04      0.07       603\n",
      "           5       0.00      0.00      0.00       201\n",
      "           6       0.43      0.28      0.34      1031\n",
      "           7       0.67      0.02      0.04       104\n",
      "           8       0.50      0.01      0.02        97\n",
      "           9       0.00      0.00      0.00         0\n",
      "          10       0.00      0.00      0.00        35\n",
      "          11       0.24      0.03      0.05       492\n",
      "          12       0.00      0.00      0.00        43\n",
      "          13       0.00      0.00      0.00        40\n",
      "          14       0.33      0.01      0.01       132\n",
      "          15       0.00      0.00      0.00         1\n",
      "          16       0.00      0.00      0.00         1\n",
      "          17       0.00      0.00      0.00       156\n",
      "          18       0.50      0.01      0.02       121\n",
      "          19       0.00      0.00      0.00        20\n",
      "          20       0.00      0.00      0.00         4\n",
      "          21       0.20      0.03      0.05       452\n",
      "          22       0.00      0.00      0.00        15\n",
      "          23       0.00      0.00      0.00        32\n",
      "\n",
      "   micro avg       0.38      0.08      0.14      4174\n",
      "   macro avg       0.16      0.02      0.03      4174\n",
      "weighted avg       0.27      0.08      0.11      4174\n",
      " samples avg       0.13      0.09      0.10      4174\n",
      "\n"
     ]
    },
    {
     "output_type": "stream",
     "name": "stderr",
     "text": [
      "C:\\Users\\SUNG\\anaconda3\\lib\\site-packages\\sklearn\\metrics\\_classification.py:1221: UndefinedMetricWarning: Precision and F-score are ill-defined and being set to 0.0 in labels with no predicted samples. Use `zero_division` parameter to control this behavior.\n",
      "  _warn_prf(average, modifier, msg_start, len(result))\n",
      "C:\\Users\\SUNG\\anaconda3\\lib\\site-packages\\sklearn\\metrics\\_classification.py:1221: UndefinedMetricWarning: Recall and F-score are ill-defined and being set to 0.0 in labels with no true samples. Use `zero_division` parameter to control this behavior.\n",
      "  _warn_prf(average, modifier, msg_start, len(result))\n",
      "C:\\Users\\SUNG\\anaconda3\\lib\\site-packages\\sklearn\\metrics\\_classification.py:1221: UndefinedMetricWarning: Precision and F-score are ill-defined and being set to 0.0 in samples with no predicted labels. Use `zero_division` parameter to control this behavior.\n",
      "  _warn_prf(average, modifier, msg_start, len(result))\n"
     ]
    }
   ],
   "metadata": {}
  },
  {
   "cell_type": "code",
   "execution_count": null,
   "source": [],
   "outputs": [],
   "metadata": {}
  },
  {
   "cell_type": "markdown",
   "source": [],
   "metadata": {}
  }
 ],
 "metadata": {
  "kernelspec": {
   "name": "python3",
   "display_name": "Python 3.8.3 64-bit ('base': conda)"
  },
  "language_info": {
   "codemirror_mode": {
    "name": "ipython",
    "version": 3
   },
   "file_extension": ".py",
   "mimetype": "text/x-python",
   "name": "python",
   "nbconvert_exporter": "python",
   "pygments_lexer": "ipython3",
   "version": "3.8.3"
  },
  "interpreter": {
   "hash": "8fa6d0f5c6d92acdfaec453d98c3b1123c06ecce2485b6729b4a3382769e9b16"
  }
 },
 "nbformat": 4,
 "nbformat_minor": 4
}