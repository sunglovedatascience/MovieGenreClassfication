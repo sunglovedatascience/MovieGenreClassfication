{
  "nbformat": 4,
  "nbformat_minor": 0,
  "metadata": {
    "interpreter": {
      "hash": "8fa6d0f5c6d92acdfaec453d98c3b1123c06ecce2485b6729b4a3382769e9b16"
    },
    "kernelspec": {
      "display_name": "Python 3.8.3 64-bit ('base': conda)",
      "name": "python3"
    },
    "language_info": {
      "codemirror_mode": {
        "name": "ipython",
        "version": 3
      },
      "file_extension": ".py",
      "mimetype": "text/x-python",
      "name": "python",
      "nbconvert_exporter": "python",
      "pygments_lexer": "ipython3",
      "version": "3.8.3"
    },
    "colab": {
      "name": "Assignment_Final.ipynb",
      "provenance": [],
      "collapsed_sections": [
        "SqwLqKwDMhK3",
        "TZlmGLqSMhK4",
        "ct2AlYCKMhK4",
        "nrS-cskgMhK5",
        "Yyt4H0WEMhK5",
        "xFKDpWoQMhK5",
        "Ie_Ju6ZSMhK6",
        "zjK1i3anMhK6",
        "m3LQrMOCMhK7",
        "Hv7wmxBJMhK7",
        "iXOA_3JPMhK7"
      ]
    }
  },
  "cells": [
    {
      "cell_type": "markdown",
      "metadata": {
        "id": "iSS3QEzqMhKn"
      },
      "source": [
        "# Movie Classification"
      ]
    },
    {
      "cell_type": "markdown",
      "metadata": {
        "id": "WAT2JOXBMhKs"
      },
      "source": [
        "* https://machinelearninggeek.com/latent-dirichlet-allocation-using-scikit-learn/\n",
        "* https://www.kaggle.com/rajmehra03/topic-modelling-using-lda-and-lsa-in-sklearn\n",
        "* https://www.machinelearningplus.com/nlp/topic-modeling-gensim-python/#17howtofindtheoptimalnumberoftopicsforlda\n",
        "* https://medium.com/swlh/topic-modeling-lda-mallet-implementation-in-python-part-2-602ffb38d396\n",
        "* https://towardsdatascience.com/evaluate-topic-model-in-python-latent-dirichlet-allocation-lda-7d57484bb5d0\n",
        "* https://colab.research.google.com/drive/1NWj4ioKmqtC1xQkC6opATdGZc27Z9miL"
      ]
    },
    {
      "cell_type": "code",
      "metadata": {
        "colab": {
          "base_uri": "https://localhost:8080/"
        },
        "id": "wn9yC2LbMmpi",
        "outputId": "de7c28bc-35e6-4524-a186-afeefa16641e"
      },
      "source": [
        "from google.colab import drive\n",
        "drive.mount('/content/drive')"
      ],
      "execution_count": 59,
      "outputs": [
        {
          "output_type": "stream",
          "name": "stdout",
          "text": [
            "Drive already mounted at /content/drive; to attempt to forcibly remount, call drive.mount(\"/content/drive\", force_remount=True).\n"
          ]
        }
      ]
    },
    {
      "cell_type": "markdown",
      "metadata": {
        "id": "D_RQd0BOMhKt"
      },
      "source": [
        "## 1. Web Scrapping"
      ]
    },
    {
      "cell_type": "markdown",
      "metadata": {
        "id": "BEa9LtenMhKt"
      },
      "source": [
        "ทำการ Scrape โดยเลือกประเภทหนังเป็น Feature Film ในประเทศอเมริกา ตั้งแต่ปี 2018 ถึง 2021"
      ]
    },
    {
      "cell_type": "code",
      "metadata": {
        "id": "fSu4tujzMhKt"
      },
      "source": [
        "import numpy as np\n",
        "import pandas as pd\n",
        "import matplotlib.pyplot as plt\n",
        "import seaborn as sns\n",
        "import pickle\n",
        "import warnings\n",
        "sns.set(style='whitegrid', palette=\"deep\", rc={\"figure.figsize\": [8, 5]})\n",
        "%matplotlib inline\n",
        "warnings.filterwarnings('ignore')"
      ],
      "execution_count": 1,
      "outputs": []
    },
    {
      "cell_type": "code",
      "metadata": {
        "id": "XF9jDi3OMhKv"
      },
      "source": [
        "from requests import get\n",
        "from bs4 import BeautifulSoup\n",
        "\n",
        "page_movie = []\n",
        "\n",
        "for i in [2018, 2019, 2020, 2021]:\n",
        "    for j in range(1, 4200, 100):\n",
        "        url = \"https://www.imdb.com/search/title/?title_type=feature&release_date=\"+str(i)+\"-01-01,\"+str(i)+\"-12-31&countries=us&sort=alpha,asc&count=100&start=\"+str(j)+\"&ref_=adv_nxt\"\n",
        "        response = get(url)\n",
        "        html_soup = BeautifulSoup(response.text, 'html.parser')\n",
        "        movie_containers = html_soup.find_all('div', class_ = 'lister-item mode-advanced')\n",
        "\n",
        "        names = []\n",
        "        years = []\n",
        "        genres = []\n",
        "        descriptions = []\n",
        "\n",
        "        for container in movie_containers:\n",
        "\n",
        "            if (container.find('span', attrs = {'class': 'genre'}) is not None) and ((container.find_all('p', attrs={'class':'text-muted'})[-1].text) != '\\nAdd a Plot\\n'):\n",
        "\n",
        "                name = container.h3.a.text\n",
        "                names.append(name)\n",
        "\n",
        "                year = container.h3.find('span', class_ = 'lister-item-year').text\n",
        "                years.append(year)\n",
        "\n",
        "                genre = container.find('span', attrs = {'class': 'genre'}).text\n",
        "                genres.append(genre)\n",
        "\n",
        "                description = container.find_all('p', attrs={'class':'text-muted'})[-1].text\n",
        "                descriptions.append(description)\n",
        "        test_df = pd.DataFrame({'movie': names,\n",
        "                                'year': years,\n",
        "                                'genres': genres,\n",
        "                                'descriptions': descriptions})\n",
        "        page_movie.append(test_df)\n",
        "\n",
        "df = pd.concat(page_movie).reset_index(drop=True)"
      ],
      "execution_count": null,
      "outputs": []
    },
    {
      "cell_type": "code",
      "metadata": {
        "id": "oYG_AtASMhKv"
      },
      "source": [
        "# import pickle\n",
        "# # df.to_pickle('df.pickle')\n",
        "# df = pd.read_pickle('df.pickle')\n",
        "# df.head(10)"
      ],
      "execution_count": null,
      "outputs": []
    },
    {
      "cell_type": "code",
      "metadata": {
        "id": "jpcGrRxUMhKx"
      },
      "source": [
        "# df.to_excel('df.xlsx', index=False)"
      ],
      "execution_count": null,
      "outputs": []
    },
    {
      "cell_type": "code",
      "metadata": {
        "colab": {
          "base_uri": "https://localhost:8080/",
          "height": 204
        },
        "id": "Ng9ChGEpMhKy",
        "outputId": "8102e42d-7c0b-41d5-b294-bfe8bf1a0594"
      },
      "source": [
        "df = pd.read_excel('/content/drive/MyDrive/MSDS/Movie Genre Classification/df.xlsx')\n",
        "df.head()"
      ],
      "execution_count": 282,
      "outputs": [
        {
          "output_type": "execute_result",
          "data": {
            "text/html": [
              "<div>\n",
              "<style scoped>\n",
              "    .dataframe tbody tr th:only-of-type {\n",
              "        vertical-align: middle;\n",
              "    }\n",
              "\n",
              "    .dataframe tbody tr th {\n",
              "        vertical-align: top;\n",
              "    }\n",
              "\n",
              "    .dataframe thead th {\n",
              "        text-align: right;\n",
              "    }\n",
              "</style>\n",
              "<table border=\"1\" class=\"dataframe\">\n",
              "  <thead>\n",
              "    <tr style=\"text-align: right;\">\n",
              "      <th></th>\n",
              "      <th>movie</th>\n",
              "      <th>year</th>\n",
              "      <th>genres</th>\n",
              "      <th>descriptions</th>\n",
              "    </tr>\n",
              "  </thead>\n",
              "  <tbody>\n",
              "    <tr>\n",
              "      <th>0</th>\n",
              "      <td>#1915House</td>\n",
              "      <td>(2018)</td>\n",
              "      <td>\\nHorror, Thriller</td>\n",
              "      <td>\\nA century of secrets are hidden behind the f...</td>\n",
              "    </tr>\n",
              "    <tr>\n",
              "      <th>1</th>\n",
              "      <td>#SquadGoals</td>\n",
              "      <td>(2018)</td>\n",
              "      <td>\\nDrama, Thriller</td>\n",
              "      <td>\\nSamantha is a serious journalist, both for t...</td>\n",
              "    </tr>\n",
              "    <tr>\n",
              "      <th>2</th>\n",
              "      <td>#Victoria</td>\n",
              "      <td>(2018)</td>\n",
              "      <td>\\nAction, Drama</td>\n",
              "      <td>\\nVictoria moves from out of town into the poo...</td>\n",
              "    </tr>\n",
              "    <tr>\n",
              "      <th>3</th>\n",
              "      <td>1 Angry Black Man</td>\n",
              "      <td>(2018)</td>\n",
              "      <td>\\nDrama</td>\n",
              "      <td>\\nMike Anderson is a senior at the quintessent...</td>\n",
              "    </tr>\n",
              "    <tr>\n",
              "      <th>4</th>\n",
              "      <td>1 Dead man, 6 Suspects, $65 Million</td>\n",
              "      <td>(2018)</td>\n",
              "      <td>\\nMystery</td>\n",
              "      <td>\\nA low budget but slick \"who done it\" involvi...</td>\n",
              "    </tr>\n",
              "  </tbody>\n",
              "</table>\n",
              "</div>"
            ],
            "text/plain": [
              "                                 movie  ...                                       descriptions\n",
              "0                           #1915House  ...  \\nA century of secrets are hidden behind the f...\n",
              "1                          #SquadGoals  ...  \\nSamantha is a serious journalist, both for t...\n",
              "2                            #Victoria  ...  \\nVictoria moves from out of town into the poo...\n",
              "3                    1 Angry Black Man  ...  \\nMike Anderson is a senior at the quintessent...\n",
              "4  1 Dead man, 6 Suspects, $65 Million  ...  \\nA low budget but slick \"who done it\" involvi...\n",
              "\n",
              "[5 rows x 4 columns]"
            ]
          },
          "metadata": {},
          "execution_count": 282
        }
      ]
    },
    {
      "cell_type": "markdown",
      "metadata": {
        "id": "eMdBZ5qlMhKz"
      },
      "source": [
        "## 2. Data Preparation"
      ]
    },
    {
      "cell_type": "code",
      "metadata": {
        "colab": {
          "base_uri": "https://localhost:8080/"
        },
        "id": "lpmX3xiwMhK0",
        "outputId": "aeccf408-9950-4de9-9ac2-198fe7b4cb33"
      },
      "source": [
        "df.year.unique()"
      ],
      "execution_count": 3,
      "outputs": [
        {
          "output_type": "execute_result",
          "data": {
            "text/plain": [
              "array(['(2018)', '(I) (2018)', nan, '(II) (2018)', '(III) (2018)',\n",
              "       '(IV) (2018)', '(V) (2018)', '(IX) (2018)', '(XXIII)',\n",
              "       '(VI) (2018)', '(VIII) (2018)', '(2019)', '(VII)',\n",
              "       '(XVIII) (2018)', '(I)', '(II)', '(XVI) (2018)', '(II) (2019)',\n",
              "       '(I) (2019)', '(IV) (2019)', '(V) (2019)', '(III) (2019)',\n",
              "       '(VI) (2019)', '(VIII) (2019)', '(XXXV) (2019)', '(VII) (2019)',\n",
              "       '(X) (2019)', '(IX) (2019)', '(XII) (2019)', '(2020)',\n",
              "       '(III) (2020)', '(II) (2020)', '(I) (2020)', '(XXI) (2020)',\n",
              "       '(V) (2020)', '(VI) (2020)', '(IV) (2020)', '(2021)',\n",
              "       '(VIII) (2020)', '(XI) (2020)', '(I) (2021)', '(II) (2021)',\n",
              "       '(IV) (2021)', '(XII) (2021)', '(III) (2021)', '(VI) (2021)',\n",
              "       '(V) (2021)', '(VI)'], dtype=object)"
            ]
          },
          "metadata": {},
          "execution_count": 3
        }
      ]
    },
    {
      "cell_type": "code",
      "metadata": {
        "colab": {
          "base_uri": "https://localhost:8080/"
        },
        "id": "kBEQSsI6MhK0",
        "outputId": "d2dd9d32-6ab2-4c4f-cea8-ee965869d47e"
      },
      "source": [
        "df.year = df.year.str.extract('(\\d+)')\n",
        "df.year = df.year.ffill(axis = 0)\n",
        "df.year.unique()"
      ],
      "execution_count": 283,
      "outputs": [
        {
          "output_type": "execute_result",
          "data": {
            "text/plain": [
              "array(['2018', '2019', '2020', '2021'], dtype=object)"
            ]
          },
          "metadata": {},
          "execution_count": 283
        }
      ]
    },
    {
      "cell_type": "code",
      "metadata": {
        "colab": {
          "base_uri": "https://localhost:8080/",
          "height": 390
        },
        "id": "F_p2NVcNMhK1",
        "outputId": "2778c90b-eb2f-41b2-ef5d-92fa4782f46a"
      },
      "source": [
        "df.groupby(['year']).size().plot(kind='bar', color={'#20B2AA'}, figsize=(10,5), title='Movies Count by Production Year')"
      ],
      "execution_count": 5,
      "outputs": [
        {
          "output_type": "execute_result",
          "data": {
            "text/plain": [
              "<matplotlib.axes._subplots.AxesSubplot at 0x7fd5a0d3f950>"
            ]
          },
          "metadata": {},
          "execution_count": 5
        },
        {
          "output_type": "display_data",
          "data": {
            "image/png": "[encoded data removed]",
            "text/plain": [
              "<Figure size 720x360 with 1 Axes>"
            ]
          },
          "metadata": {
            "needs_background": "light"
          }
        }
      ]
    },
    {
      "cell_type": "code",
      "metadata": {
        "colab": {
          "base_uri": "https://localhost:8080/",
          "height": 204
        },
        "id": "wLkw1QyjMhK1",
        "outputId": "df4f5bff-02ab-4812-90c3-47fae7909756"
      },
      "source": [
        "df.genres = df.genres.str.strip()\n",
        "df.head()"
      ],
      "execution_count": 284,
      "outputs": [
        {
          "output_type": "execute_result",
          "data": {
            "text/html": [
              "<div>\n",
              "<style scoped>\n",
              "    .dataframe tbody tr th:only-of-type {\n",
              "        vertical-align: middle;\n",
              "    }\n",
              "\n",
              "    .dataframe tbody tr th {\n",
              "        vertical-align: top;\n",
              "    }\n",
              "\n",
              "    .dataframe thead th {\n",
              "        text-align: right;\n",
              "    }\n",
              "</style>\n",
              "<table border=\"1\" class=\"dataframe\">\n",
              "  <thead>\n",
              "    <tr style=\"text-align: right;\">\n",
              "      <th></th>\n",
              "      <th>movie</th>\n",
              "      <th>year</th>\n",
              "      <th>genres</th>\n",
              "      <th>descriptions</th>\n",
              "    </tr>\n",
              "  </thead>\n",
              "  <tbody>\n",
              "    <tr>\n",
              "      <th>0</th>\n",
              "      <td>#1915House</td>\n",
              "      <td>2018</td>\n",
              "      <td>Horror, Thriller</td>\n",
              "      <td>\\nA century of secrets are hidden behind the f...</td>\n",
              "    </tr>\n",
              "    <tr>\n",
              "      <th>1</th>\n",
              "      <td>#SquadGoals</td>\n",
              "      <td>2018</td>\n",
              "      <td>Drama, Thriller</td>\n",
              "      <td>\\nSamantha is a serious journalist, both for t...</td>\n",
              "    </tr>\n",
              "    <tr>\n",
              "      <th>2</th>\n",
              "      <td>#Victoria</td>\n",
              "      <td>2018</td>\n",
              "      <td>Action, Drama</td>\n",
              "      <td>\\nVictoria moves from out of town into the poo...</td>\n",
              "    </tr>\n",
              "    <tr>\n",
              "      <th>3</th>\n",
              "      <td>1 Angry Black Man</td>\n",
              "      <td>2018</td>\n",
              "      <td>Drama</td>\n",
              "      <td>\\nMike Anderson is a senior at the quintessent...</td>\n",
              "    </tr>\n",
              "    <tr>\n",
              "      <th>4</th>\n",
              "      <td>1 Dead man, 6 Suspects, $65 Million</td>\n",
              "      <td>2018</td>\n",
              "      <td>Mystery</td>\n",
              "      <td>\\nA low budget but slick \"who done it\" involvi...</td>\n",
              "    </tr>\n",
              "  </tbody>\n",
              "</table>\n",
              "</div>"
            ],
            "text/plain": [
              "                                 movie  ...                                       descriptions\n",
              "0                           #1915House  ...  \\nA century of secrets are hidden behind the f...\n",
              "1                          #SquadGoals  ...  \\nSamantha is a serious journalist, both for t...\n",
              "2                            #Victoria  ...  \\nVictoria moves from out of town into the poo...\n",
              "3                    1 Angry Black Man  ...  \\nMike Anderson is a senior at the quintessent...\n",
              "4  1 Dead man, 6 Suspects, $65 Million  ...  \\nA low budget but slick \"who done it\" involvi...\n",
              "\n",
              "[5 rows x 4 columns]"
            ]
          },
          "metadata": {},
          "execution_count": 284
        }
      ]
    },
    {
      "cell_type": "code",
      "metadata": {
        "id": "3exQMX9VoPW3"
      },
      "source": [
        "# set(df.genres.tolist())"
      ],
      "execution_count": 36,
      "outputs": []
    },
    {
      "cell_type": "code",
      "metadata": {
        "colab": {
          "base_uri": "https://localhost:8080/"
        },
        "id": "L72gr_gfMhK1",
        "outputId": "1e3290f6-9c5b-4eda-9076-25c8dfc79279"
      },
      "source": [
        "genres = df.genres.tolist()\n",
        "genres = \", \".join(genres)\n",
        "genres = sorted(list(set(genres.split(\", \"))))\n",
        "genres\n"
      ],
      "execution_count": 285,
      "outputs": [
        {
          "output_type": "execute_result",
          "data": {
            "text/plain": [
              "['Action',\n",
              " 'Adventure',\n",
              " 'Animation',\n",
              " 'Biography',\n",
              " 'Comedy',\n",
              " 'Crime',\n",
              " 'Drama',\n",
              " 'Family',\n",
              " 'Fantasy',\n",
              " 'Game-Show',\n",
              " 'History',\n",
              " 'Horror',\n",
              " 'Music',\n",
              " 'Musical',\n",
              " 'Mystery',\n",
              " 'News',\n",
              " 'Reality-TV',\n",
              " 'Romance',\n",
              " 'Sci-Fi',\n",
              " 'Sport',\n",
              " 'Talk-Show',\n",
              " 'Thriller',\n",
              " 'War',\n",
              " 'Western']"
            ]
          },
          "metadata": {},
          "execution_count": 285
        }
      ]
    },
    {
      "cell_type": "code",
      "metadata": {
        "colab": {
          "base_uri": "https://localhost:8080/",
          "height": 496
        },
        "id": "lA8LYa7OMhK2",
        "outputId": "e9f75e68-fd0b-4163-e181-480326427a01"
      },
      "source": [
        "for g in genres:\n",
        "  df[g] = df[\"genres\"].apply(lambda x: 1 if len(set(x.split(\", \")).intersection(set([g]))) > 0 else 0)\n",
        "df.head()"
      ],
      "execution_count": 286,
      "outputs": [
        {
          "output_type": "execute_result",
          "data": {
            "text/html": [
              "<div>\n",
              "<style scoped>\n",
              "    .dataframe tbody tr th:only-of-type {\n",
              "        vertical-align: middle;\n",
              "    }\n",
              "\n",
              "    .dataframe tbody tr th {\n",
              "        vertical-align: top;\n",
              "    }\n",
              "\n",
              "    .dataframe thead th {\n",
              "        text-align: right;\n",
              "    }\n",
              "</style>\n",
              "<table border=\"1\" class=\"dataframe\">\n",
              "  <thead>\n",
              "    <tr style=\"text-align: right;\">\n",
              "      <th></th>\n",
              "      <th>movie</th>\n",
              "      <th>year</th>\n",
              "      <th>genres</th>\n",
              "      <th>descriptions</th>\n",
              "      <th>Action</th>\n",
              "      <th>Adventure</th>\n",
              "      <th>Animation</th>\n",
              "      <th>Biography</th>\n",
              "      <th>Comedy</th>\n",
              "      <th>Crime</th>\n",
              "      <th>Drama</th>\n",
              "      <th>Family</th>\n",
              "      <th>Fantasy</th>\n",
              "      <th>Game-Show</th>\n",
              "      <th>History</th>\n",
              "      <th>Horror</th>\n",
              "      <th>Music</th>\n",
              "      <th>Musical</th>\n",
              "      <th>Mystery</th>\n",
              "      <th>News</th>\n",
              "      <th>Reality-TV</th>\n",
              "      <th>Romance</th>\n",
              "      <th>Sci-Fi</th>\n",
              "      <th>Sport</th>\n",
              "      <th>Talk-Show</th>\n",
              "      <th>Thriller</th>\n",
              "      <th>War</th>\n",
              "      <th>Western</th>\n",
              "    </tr>\n",
              "  </thead>\n",
              "  <tbody>\n",
              "    <tr>\n",
              "      <th>0</th>\n",
              "      <td>#1915House</td>\n",
              "      <td>2018</td>\n",
              "      <td>Horror, Thriller</td>\n",
              "      <td>\\nA century of secrets are hidden behind the f...</td>\n",
              "      <td>0</td>\n",
              "      <td>0</td>\n",
              "      <td>0</td>\n",
              "      <td>0</td>\n",
              "      <td>0</td>\n",
              "      <td>0</td>\n",
              "      <td>0</td>\n",
              "      <td>0</td>\n",
              "      <td>0</td>\n",
              "      <td>0</td>\n",
              "      <td>0</td>\n",
              "      <td>1</td>\n",
              "      <td>0</td>\n",
              "      <td>0</td>\n",
              "      <td>0</td>\n",
              "      <td>0</td>\n",
              "      <td>0</td>\n",
              "      <td>0</td>\n",
              "      <td>0</td>\n",
              "      <td>0</td>\n",
              "      <td>0</td>\n",
              "      <td>1</td>\n",
              "      <td>0</td>\n",
              "      <td>0</td>\n",
              "    </tr>\n",
              "    <tr>\n",
              "      <th>1</th>\n",
              "      <td>#SquadGoals</td>\n",
              "      <td>2018</td>\n",
              "      <td>Drama, Thriller</td>\n",
              "      <td>\\nSamantha is a serious journalist, both for t...</td>\n",
              "      <td>0</td>\n",
              "      <td>0</td>\n",
              "      <td>0</td>\n",
              "      <td>0</td>\n",
              "      <td>0</td>\n",
              "      <td>0</td>\n",
              "      <td>1</td>\n",
              "      <td>0</td>\n",
              "      <td>0</td>\n",
              "      <td>0</td>\n",
              "      <td>0</td>\n",
              "      <td>0</td>\n",
              "      <td>0</td>\n",
              "      <td>0</td>\n",
              "      <td>0</td>\n",
              "      <td>0</td>\n",
              "      <td>0</td>\n",
              "      <td>0</td>\n",
              "      <td>0</td>\n",
              "      <td>0</td>\n",
              "      <td>0</td>\n",
              "      <td>1</td>\n",
              "      <td>0</td>\n",
              "      <td>0</td>\n",
              "    </tr>\n",
              "    <tr>\n",
              "      <th>2</th>\n",
              "      <td>#Victoria</td>\n",
              "      <td>2018</td>\n",
              "      <td>Action, Drama</td>\n",
              "      <td>\\nVictoria moves from out of town into the poo...</td>\n",
              "      <td>1</td>\n",
              "      <td>0</td>\n",
              "      <td>0</td>\n",
              "      <td>0</td>\n",
              "      <td>0</td>\n",
              "      <td>0</td>\n",
              "      <td>1</td>\n",
              "      <td>0</td>\n",
              "      <td>0</td>\n",
              "      <td>0</td>\n",
              "      <td>0</td>\n",
              "      <td>0</td>\n",
              "      <td>0</td>\n",
              "      <td>0</td>\n",
              "      <td>0</td>\n",
              "      <td>0</td>\n",
              "      <td>0</td>\n",
              "      <td>0</td>\n",
              "      <td>0</td>\n",
              "      <td>0</td>\n",
              "      <td>0</td>\n",
              "      <td>0</td>\n",
              "      <td>0</td>\n",
              "      <td>0</td>\n",
              "    </tr>\n",
              "    <tr>\n",
              "      <th>3</th>\n",
              "      <td>1 Angry Black Man</td>\n",
              "      <td>2018</td>\n",
              "      <td>Drama</td>\n",
              "      <td>\\nMike Anderson is a senior at the quintessent...</td>\n",
              "      <td>0</td>\n",
              "      <td>0</td>\n",
              "      <td>0</td>\n",
              "      <td>0</td>\n",
              "      <td>0</td>\n",
              "      <td>0</td>\n",
              "      <td>1</td>\n",
              "      <td>0</td>\n",
              "      <td>0</td>\n",
              "      <td>0</td>\n",
              "      <td>0</td>\n",
              "      <td>0</td>\n",
              "      <td>0</td>\n",
              "      <td>0</td>\n",
              "      <td>0</td>\n",
              "      <td>0</td>\n",
              "      <td>0</td>\n",
              "      <td>0</td>\n",
              "      <td>0</td>\n",
              "      <td>0</td>\n",
              "      <td>0</td>\n",
              "      <td>0</td>\n",
              "      <td>0</td>\n",
              "      <td>0</td>\n",
              "    </tr>\n",
              "    <tr>\n",
              "      <th>4</th>\n",
              "      <td>1 Dead man, 6 Suspects, $65 Million</td>\n",
              "      <td>2018</td>\n",
              "      <td>Mystery</td>\n",
              "      <td>\\nA low budget but slick \"who done it\" involvi...</td>\n",
              "      <td>0</td>\n",
              "      <td>0</td>\n",
              "      <td>0</td>\n",
              "      <td>0</td>\n",
              "      <td>0</td>\n",
              "      <td>0</td>\n",
              "      <td>0</td>\n",
              "      <td>0</td>\n",
              "      <td>0</td>\n",
              "      <td>0</td>\n",
              "      <td>0</td>\n",
              "      <td>0</td>\n",
              "      <td>0</td>\n",
              "      <td>0</td>\n",
              "      <td>1</td>\n",
              "      <td>0</td>\n",
              "      <td>0</td>\n",
              "      <td>0</td>\n",
              "      <td>0</td>\n",
              "      <td>0</td>\n",
              "      <td>0</td>\n",
              "      <td>0</td>\n",
              "      <td>0</td>\n",
              "      <td>0</td>\n",
              "    </tr>\n",
              "  </tbody>\n",
              "</table>\n",
              "</div>"
            ],
            "text/plain": [
              "                                 movie  year  ... War Western\n",
              "0                           #1915House  2018  ...   0       0\n",
              "1                          #SquadGoals  2018  ...   0       0\n",
              "2                            #Victoria  2018  ...   0       0\n",
              "3                    1 Angry Black Man  2018  ...   0       0\n",
              "4  1 Dead man, 6 Suspects, $65 Million  2018  ...   0       0\n",
              "\n",
              "[5 rows x 28 columns]"
            ]
          },
          "metadata": {},
          "execution_count": 286
        }
      ]
    },
    {
      "cell_type": "code",
      "metadata": {
        "colab": {
          "base_uri": "https://localhost:8080/"
        },
        "id": "PA8KdmLMMhK2",
        "outputId": "74834ad2-3906-4f17-c06b-48319d4fccf9"
      },
      "source": [
        "df.shape"
      ],
      "execution_count": 174,
      "outputs": [
        {
          "output_type": "execute_result",
          "data": {
            "text/plain": [
              "(12388, 28)"
            ]
          },
          "metadata": {},
          "execution_count": 174
        }
      ]
    },
    {
      "cell_type": "code",
      "metadata": {
        "colab": {
          "base_uri": "https://localhost:8080/"
        },
        "id": "oOB9eGAyMhK2",
        "outputId": "578f9ae4-b386-4700-e2a6-6e4844b7f857"
      },
      "source": [
        "df.isnull().any()"
      ],
      "execution_count": 107,
      "outputs": [
        {
          "output_type": "execute_result",
          "data": {
            "text/plain": [
              "movie           False\n",
              "year            False\n",
              "genres          False\n",
              "descriptions    False\n",
              "Action          False\n",
              "Adventure       False\n",
              "Animation       False\n",
              "Biography       False\n",
              "Comedy          False\n",
              "Crime           False\n",
              "Drama           False\n",
              "Family          False\n",
              "Fantasy         False\n",
              "Game-Show       False\n",
              "History         False\n",
              "Horror          False\n",
              "Music           False\n",
              "Musical         False\n",
              "Mystery         False\n",
              "News            False\n",
              "Reality-TV      False\n",
              "Romance         False\n",
              "Sci-Fi          False\n",
              "Sport           False\n",
              "Talk-Show       False\n",
              "Thriller        False\n",
              "War             False\n",
              "Western         False\n",
              "dtype: bool"
            ]
          },
          "metadata": {},
          "execution_count": 107
        }
      ]
    },
    {
      "cell_type": "code",
      "metadata": {
        "colab": {
          "base_uri": "https://localhost:8080/"
        },
        "id": "pssKBKDtMhK2",
        "outputId": "94e7449f-344c-421d-d1db-8e33be37c169"
      },
      "source": [
        "df.loc[:, genres].sum().sort_values(ascending=False)"
      ],
      "execution_count": 108,
      "outputs": [
        {
          "output_type": "execute_result",
          "data": {
            "text/plain": [
              "Drama         5177\n",
              "Comedy        3046\n",
              "Horror        2339\n",
              "Thriller      2171\n",
              "Action        1420\n",
              "Crime          937\n",
              "Romance        834\n",
              "Adventure      777\n",
              "Mystery        714\n",
              "Sci-Fi         698\n",
              "Family         569\n",
              "Animation      503\n",
              "Fantasy        490\n",
              "Biography      240\n",
              "Music          215\n",
              "Musical        170\n",
              "Western        150\n",
              "History        148\n",
              "Sport          110\n",
              "War             84\n",
              "Reality-TV      19\n",
              "Talk-Show       16\n",
              "News             7\n",
              "Game-Show        1\n",
              "dtype: int64"
            ]
          },
          "metadata": {},
          "execution_count": 108
        }
      ]
    },
    {
      "cell_type": "code",
      "metadata": {
        "colab": {
          "base_uri": "https://localhost:8080/"
        },
        "id": "wtTj5CGsoDvh",
        "outputId": "3e5df5e9-0eb5-4784-bac1-aef0e1ad5fe8"
      },
      "source": [
        "#เลือก column 10 genres ที่มีมากที่สุด\n",
        "df = df[['movie', 'year', 'genres', 'descriptions', 'Drama', 'Comedy', 'Horror', 'Thriller', 'Action', 'Crime', 'Romance', 'Adventure', 'Mystery', 'Sci-Fi']]\n",
        "df.shape"
      ],
      "execution_count": 287,
      "outputs": [
        {
          "output_type": "execute_result",
          "data": {
            "text/plain": [
              "(12388, 14)"
            ]
          },
          "metadata": {},
          "execution_count": 287
        }
      ]
    },
    {
      "cell_type": "code",
      "metadata": {
        "colab": {
          "base_uri": "https://localhost:8080/"
        },
        "id": "0OdprGhOtmyA",
        "outputId": "71bad66d-5478-416f-fdf2-02caeeff60f5"
      },
      "source": [
        "index_names = df[(df['Drama']==0)&(df['Comedy']==0)&(df['Horror']==0)&(df['Thriller']==0)&(df['Action']==0)&(df['Crime']==0)&(df['Romance']==0)&(df['Adventure']==0)&(df['Mystery']==0)&(df['Sci-Fi']==0)].index\n",
        "index_names"
      ],
      "execution_count": 288,
      "outputs": [
        {
          "output_type": "execute_result",
          "data": {
            "text/plain": [
              "Int64Index([   50,    52,    55,    65,    67,    91,    95,   103,   115,\n",
              "              155,\n",
              "            ...\n",
              "            12268, 12297, 12305, 12326, 12330, 12347, 12350, 12370, 12374,\n",
              "            12382],\n",
              "           dtype='int64', length=912)"
            ]
          },
          "metadata": {},
          "execution_count": 288
        }
      ]
    },
    {
      "cell_type": "code",
      "metadata": {
        "colab": {
          "base_uri": "https://localhost:8080/",
          "height": 682
        },
        "id": "bGznqPbVw56i",
        "outputId": "a503e299-30a1-44bf-f3e6-ff287c69376a"
      },
      "source": [
        "df = df.drop(index_names)\n",
        "df.tail(10)"
      ],
      "execution_count": 289,
      "outputs": [
        {
          "output_type": "execute_result",
          "data": {
            "text/html": [
              "<div>\n",
              "<style scoped>\n",
              "    .dataframe tbody tr th:only-of-type {\n",
              "        vertical-align: middle;\n",
              "    }\n",
              "\n",
              "    .dataframe tbody tr th {\n",
              "        vertical-align: top;\n",
              "    }\n",
              "\n",
              "    .dataframe thead th {\n",
              "        text-align: right;\n",
              "    }\n",
              "</style>\n",
              "<table border=\"1\" class=\"dataframe\">\n",
              "  <thead>\n",
              "    <tr style=\"text-align: right;\">\n",
              "      <th></th>\n",
              "      <th>movie</th>\n",
              "      <th>year</th>\n",
              "      <th>genres</th>\n",
              "      <th>descriptions</th>\n",
              "      <th>Drama</th>\n",
              "      <th>Comedy</th>\n",
              "      <th>Horror</th>\n",
              "      <th>Thriller</th>\n",
              "      <th>Action</th>\n",
              "      <th>Crime</th>\n",
              "      <th>Romance</th>\n",
              "      <th>Adventure</th>\n",
              "      <th>Mystery</th>\n",
              "      <th>Sci-Fi</th>\n",
              "    </tr>\n",
              "  </thead>\n",
              "  <tbody>\n",
              "    <tr>\n",
              "      <th>12377</th>\n",
              "      <td>Zed's Dead</td>\n",
              "      <td>2021</td>\n",
              "      <td>Adventure</td>\n",
              "      <td>\\nTake a plunge into the morbid world of Z and...</td>\n",
              "      <td>0</td>\n",
              "      <td>0</td>\n",
              "      <td>0</td>\n",
              "      <td>0</td>\n",
              "      <td>0</td>\n",
              "      <td>0</td>\n",
              "      <td>0</td>\n",
              "      <td>1</td>\n",
              "      <td>0</td>\n",
              "      <td>0</td>\n",
              "    </tr>\n",
              "    <tr>\n",
              "      <th>12378</th>\n",
              "      <td>Zero Avenue</td>\n",
              "      <td>2021</td>\n",
              "      <td>Horror, Romance</td>\n",
              "      <td>\\nJoshua, a reluctant immortal, plans to end h...</td>\n",
              "      <td>0</td>\n",
              "      <td>0</td>\n",
              "      <td>1</td>\n",
              "      <td>0</td>\n",
              "      <td>0</td>\n",
              "      <td>0</td>\n",
              "      <td>1</td>\n",
              "      <td>0</td>\n",
              "      <td>0</td>\n",
              "      <td>0</td>\n",
              "    </tr>\n",
              "    <tr>\n",
              "      <th>12379</th>\n",
              "      <td>Zero Contact</td>\n",
              "      <td>2021</td>\n",
              "      <td>Thriller</td>\n",
              "      <td>\\nProduced in 17 different countries entirely ...</td>\n",
              "      <td>0</td>\n",
              "      <td>0</td>\n",
              "      <td>0</td>\n",
              "      <td>1</td>\n",
              "      <td>0</td>\n",
              "      <td>0</td>\n",
              "      <td>0</td>\n",
              "      <td>0</td>\n",
              "      <td>0</td>\n",
              "      <td>0</td>\n",
              "    </tr>\n",
              "    <tr>\n",
              "      <th>12380</th>\n",
              "      <td>Zeros and Ones</td>\n",
              "      <td>2021</td>\n",
              "      <td>Thriller, War</td>\n",
              "      <td>\\nAn American soldier stationed in Rome with t...</td>\n",
              "      <td>0</td>\n",
              "      <td>0</td>\n",
              "      <td>0</td>\n",
              "      <td>1</td>\n",
              "      <td>0</td>\n",
              "      <td>0</td>\n",
              "      <td>0</td>\n",
              "      <td>0</td>\n",
              "      <td>0</td>\n",
              "      <td>0</td>\n",
              "    </tr>\n",
              "    <tr>\n",
              "      <th>12381</th>\n",
              "      <td>Zidane Adams: The Black Blogger!</td>\n",
              "      <td>2021</td>\n",
              "      <td>Drama</td>\n",
              "      <td>\\nThe life of a cynical, black blogger, former...</td>\n",
              "      <td>1</td>\n",
              "      <td>0</td>\n",
              "      <td>0</td>\n",
              "      <td>0</td>\n",
              "      <td>0</td>\n",
              "      <td>0</td>\n",
              "      <td>0</td>\n",
              "      <td>0</td>\n",
              "      <td>0</td>\n",
              "      <td>0</td>\n",
              "    </tr>\n",
              "    <tr>\n",
              "      <th>12383</th>\n",
              "      <td>Zone Drifter</td>\n",
              "      <td>2021</td>\n",
              "      <td>Sci-Fi</td>\n",
              "      <td>\\nIn the distant future, a former soldier batt...</td>\n",
              "      <td>0</td>\n",
              "      <td>0</td>\n",
              "      <td>0</td>\n",
              "      <td>0</td>\n",
              "      <td>0</td>\n",
              "      <td>0</td>\n",
              "      <td>0</td>\n",
              "      <td>0</td>\n",
              "      <td>0</td>\n",
              "      <td>1</td>\n",
              "    </tr>\n",
              "    <tr>\n",
              "      <th>12384</th>\n",
              "      <td>Zooey</td>\n",
              "      <td>2021</td>\n",
              "      <td>Comedy, Drama, Sci-Fi</td>\n",
              "      <td>\\nWhen a young boy, Noah, meets Zooey, a young...</td>\n",
              "      <td>1</td>\n",
              "      <td>1</td>\n",
              "      <td>0</td>\n",
              "      <td>0</td>\n",
              "      <td>0</td>\n",
              "      <td>0</td>\n",
              "      <td>0</td>\n",
              "      <td>0</td>\n",
              "      <td>0</td>\n",
              "      <td>1</td>\n",
              "    </tr>\n",
              "    <tr>\n",
              "      <th>12385</th>\n",
              "      <td>Zwtral</td>\n",
              "      <td>2021</td>\n",
              "      <td>Mystery</td>\n",
              "      <td>\\nMaking trades is his life. Justin finds hims...</td>\n",
              "      <td>0</td>\n",
              "      <td>0</td>\n",
              "      <td>0</td>\n",
              "      <td>0</td>\n",
              "      <td>0</td>\n",
              "      <td>0</td>\n",
              "      <td>0</td>\n",
              "      <td>0</td>\n",
              "      <td>1</td>\n",
              "      <td>0</td>\n",
              "    </tr>\n",
              "    <tr>\n",
              "      <th>12386</th>\n",
              "      <td>d'ILLUSION: The Houdini Musical</td>\n",
              "      <td>2021</td>\n",
              "      <td>Biography, Drama, Musical</td>\n",
              "      <td>\\nThe University of Cincinnati - College-Conse...</td>\n",
              "      <td>1</td>\n",
              "      <td>0</td>\n",
              "      <td>0</td>\n",
              "      <td>0</td>\n",
              "      <td>0</td>\n",
              "      <td>0</td>\n",
              "      <td>0</td>\n",
              "      <td>0</td>\n",
              "      <td>0</td>\n",
              "      <td>0</td>\n",
              "    </tr>\n",
              "    <tr>\n",
              "      <th>12387</th>\n",
              "      <td>iGilbert</td>\n",
              "      <td>2021</td>\n",
              "      <td>Drama</td>\n",
              "      <td>\\nGilbert Gonzalez (Adrian Martinez), feels is...</td>\n",
              "      <td>1</td>\n",
              "      <td>0</td>\n",
              "      <td>0</td>\n",
              "      <td>0</td>\n",
              "      <td>0</td>\n",
              "      <td>0</td>\n",
              "      <td>0</td>\n",
              "      <td>0</td>\n",
              "      <td>0</td>\n",
              "      <td>0</td>\n",
              "    </tr>\n",
              "  </tbody>\n",
              "</table>\n",
              "</div>"
            ],
            "text/plain": [
              "                                  movie  year  ... Mystery Sci-Fi\n",
              "12377                        Zed's Dead  2021  ...       0      0\n",
              "12378                       Zero Avenue  2021  ...       0      0\n",
              "12379                      Zero Contact  2021  ...       0      0\n",
              "12380                    Zeros and Ones  2021  ...       0      0\n",
              "12381  Zidane Adams: The Black Blogger!  2021  ...       0      0\n",
              "12383                      Zone Drifter  2021  ...       0      1\n",
              "12384                             Zooey  2021  ...       0      1\n",
              "12385                            Zwtral  2021  ...       1      0\n",
              "12386   d'ILLUSION: The Houdini Musical  2021  ...       0      0\n",
              "12387                          iGilbert  2021  ...       0      0\n",
              "\n",
              "[10 rows x 14 columns]"
            ]
          },
          "metadata": {},
          "execution_count": 289
        }
      ]
    },
    {
      "cell_type": "code",
      "metadata": {
        "colab": {
          "base_uri": "https://localhost:8080/"
        },
        "id": "wys016jLx6r1",
        "outputId": "5936aadc-aa7b-4785-c98d-1a26a00e0152"
      },
      "source": [
        "df.shape"
      ],
      "execution_count": 290,
      "outputs": [
        {
          "output_type": "execute_result",
          "data": {
            "text/plain": [
              "(11476, 14)"
            ]
          },
          "metadata": {},
          "execution_count": 290
        }
      ]
    },
    {
      "cell_type": "code",
      "metadata": {
        "colab": {
          "base_uri": "https://localhost:8080/"
        },
        "id": "Xu62VWQNyP-J",
        "outputId": "105c716a-e159-42b6-f692-84fc01a97dda"
      },
      "source": [
        "df.descriptions.tolist()[:20]"
      ],
      "execution_count": 291,
      "outputs": [
        {
          "output_type": "execute_result",
          "data": {
            "text/plain": [
              "[\"\\nA century of secrets are hidden behind the fresh paint and modern additions. Peeling back the layers is letting something escape, and he might not see it till it's too late.\",\n",
              " \"\\nSamantha is a serious journalist, both for the school paper and for the yearbook, but she's just as serious about her friends, Nate, Gillian, and Rudy, all of whom are vying with her for a full-ride local scholarship to college.\",\n",
              " '\\nVictoria moves from out of town into the poor inner city of New York with her father, the neighborhood drug dealer. She goes on a journey, seeking answers, justice, and revenge after her ...                See full summary\\xa0»\\n',\n",
              " '\\nMike Anderson is a senior at the quintessential New-England liberal arts school, Frost College. And Mike is eight weeks away from graduation. On this particular day he has his ...                See full summary\\xa0»\\n',\n",
              " '\\nA low budget but slick \"who done it\" involving the murder of a wealthy businessman. The long list of suspects includes the family butler, their shady attorney, and an assortment of greedy ...                See full summary\\xa0»\\n',\n",
              " '\\nMaybe pregnant, 20 years old Lissa revises her life.',\n",
              " '\\nA group of friends go to an island to detox together, not realizing the struggles and problems they will have to face once there.',\n",
              " '\\nThree parallel versions of the same man (a Scientist, a Spy, and an Artist) shift into each others lives at the whim of a mysterious intelligence.',\n",
              " \"\\nN.Y.P.D. Detective James Morris hunts his younger brother a Federal Black Panther Party Member who has compromised Morris's Partner/Lover Detective Ralphie Valdez's undercover status.111 is...                See full summary\\xa0»\\n\",\n",
              " '\\n12 Strong tells the story of the first Special Forces team deployed to Afghanistan after 9/11; under the leadership of a new captain, the team must work with an Afghan warlord to take down the Taliban.',\n",
              " '\\nWhen a family of five rent a beautiful house for their summer vacation, the price seems too good to be true.',\n",
              " '\\nIn 2018, T.C. traveled from Los Angeles to Wisconsin and back for a speaking engagement where he shared his philosophy on writing. He decided to document the trip day by day, and what was ...                See full summary\\xa0»\\n',\n",
              " '\\nA closeted young man goes home for the holidays and struggles to reveal his dire circumstances to his conservative family.',\n",
              " '\\nTucker and Hamid are going to be grandfathers for the first time, but only if they can come together long enough to save their first-born grandchild.',\n",
              " '\\nStudent filmmakers uncover occult rituals tied to an abandoned warehouse, then gradually realize the horror is closer than they think.',\n",
              " '\\nIn this modern setting for the Shakespeare classic, two small-town boys head to the big city looking for adventure and romance. But when they both fall for the same girl, friends become rivals.',\n",
              " '\\n2 in the Bush: A Love Story is an unconventional romantic comedy about dungeons, a fish named Archimedes, and the many forms that love takes.',\n",
              " '\\nWhile on a routine patrol, an aging cop, his partner and their ride-along get caught in a standoff with a band of former mercenaries robbing a bank.',\n",
              " \"\\nA three-part story of Norway's worst terrorist attack in which over seventy people were killed. 22 July looks at the disaster itself, the survivors, Norway's political system and the lawyers who worked on this horrific case.\",\n",
              " '\\n25 Cents to Paradise is a movie about existence and human condition.']"
            ]
          },
          "metadata": {},
          "execution_count": 291
        }
      ]
    },
    {
      "cell_type": "code",
      "metadata": {
        "id": "ZNKgZs_jMhK3"
      },
      "source": [
        "import re\n",
        "df.corpus = df.descriptions.str.strip()\n",
        "df.corpus = df.corpus.str.replace('...                See full summary\\xa0»', '', regex=True)\n",
        "df.corpus = df.corpus.str.lower()\n",
        "df.corpus = df.corpus.map(lambda x: re.sub(\"what's\", 'what is', x))\n",
        "df.corpus = df.corpus.map(lambda x: re.sub(\"'s\", '', x))\n",
        "df.corpus = df.corpus.map(lambda x: re.sub(\"'ve\", ' have', x))\n",
        "df.corpus = df.corpus.map(lambda x: re.sub(\"'re\", ' are', x))\n",
        "df.corpus = df.corpus.map(lambda x: re.sub(\"can't\", 'can not', x))\n",
        "df.corpus = df.corpus.map(lambda x: re.sub(\"n't\", ' not', x))\n",
        "df.corpus = df.corpus.map(lambda x: re.sub(\"'ll\", ' will', x))\n",
        "df.corpus = df.corpus.map(lambda x: re.sub(\"[,\\/.!?():;$%&*@#^+=~_{}<>`]\", '', x))\n",
        "df.corpus = df.corpus.str.replace('\"', '', regex=True)"
      ],
      "execution_count": 293,
      "outputs": []
    },
    {
      "cell_type": "code",
      "metadata": {
        "colab": {
          "base_uri": "https://localhost:8080/"
        },
        "id": "MrcB-1LMNV7d",
        "outputId": "9d878159-59c4-46ba-cf49-1c30a518646d"
      },
      "source": [
        "import nltk\n",
        "from nltk.stem.porter import *\n",
        "from nltk.tokenize import sent_tokenize, word_tokenize\n",
        "from nltk.corpus import stopwords\n",
        "from nltk.stem.porter import *\n",
        "nltk.download('punkt')\n",
        "nltk.download('stopwords')"
      ],
      "execution_count": 294,
      "outputs": [
        {
          "output_type": "stream",
          "name": "stdout",
          "text": [
            "[nltk_data] Downloading package punkt to /root/nltk_data...\n",
            "[nltk_data]   Package punkt is already up-to-date!\n",
            "[nltk_data] Downloading package stopwords to /root/nltk_data...\n",
            "[nltk_data]   Package stopwords is already up-to-date!\n"
          ]
        },
        {
          "output_type": "execute_result",
          "data": {
            "text/plain": [
              "True"
            ]
          },
          "metadata": {},
          "execution_count": 294
        }
      ]
    },
    {
      "cell_type": "code",
      "metadata": {
        "colab": {
          "base_uri": "https://localhost:8080/"
        },
        "id": "7Q8qfdsOMhK3",
        "outputId": "8c3803c0-3b31-4c40-d610-94522dc1fb84"
      },
      "source": [
        "def stopword_removal(x, stpws=stopwords.words(\"english\")):\n",
        "  return list(set(x).difference(set(stpws)))\n",
        "\n",
        "def lemmatization(x, stemmer=PorterStemmer()):\n",
        "  return [stemmer.stem(i) for i in x]\n",
        "\n",
        "def number_removal(x):\n",
        "  return [i for i in x if not i.isnumeric()]\n",
        "\n",
        "df.corpus = df.corpus.apply(lambda x: word_tokenize(x))\n",
        "df.corpus = df.corpus.apply(lambda x: stopword_removal(x))\n",
        "df.corpus = df.corpus.apply(lambda x: lemmatization(x))\n",
        "df.corpus = df.corpus.apply(lambda x: number_removal(x))\n",
        "df.corpus = df.corpus.apply(lambda x: \" \".join(x))\n",
        "df.corpus.tolist()[0:20]"
      ],
      "execution_count": 295,
      "outputs": [
        {
          "output_type": "execute_result",
          "data": {
            "text/plain": [
              "['let back paint centuri someth might late see layer escap behind fresh till hidden modern peel addit secret',\n",
              " 'gillian local friend yearbook nate scholarship full-rid colleg paper school vy rudi seriou samantha journalist',\n",
              " 'dealer victoria justic drug neighborhood inner journey answer move father citi york poor goe town reveng seek new',\n",
              " 'liber mike away eight particular anderson new-england week senior colleg quintessenti art school frost graduat day',\n",
              " 'low suspect butler assort slick shadi wealthi done includ greedi famili businessman list involv long murder budget attorney',\n",
              " 'old year lissa pregnant mayb life revis',\n",
              " 'realiz friend problem group go detox face island togeth struggl',\n",
              " 'intellig parallel mysteri live version other man spi whim scientist three shift artist',\n",
              " 'parti ralphi black partnerlov panther valdez morri compromis jame hunt feder brother undercov member nypd younger status111 detect',\n",
              " 'special stori taliban take leadership deploy captain strong new afghan afghanistan first work warlord tell must team forc',\n",
              " 'hous five vacat true beauti summer rent famili price good seem',\n",
              " 'tc back share document philosophi trip speak decid wisconsin angel write lo engag day travel',\n",
              " 'circumst closet home man dire young famili reveal goe holiday struggl conserv',\n",
              " 'time hamid first-born tucker first save come grandfath long go enough grandchild togeth',\n",
              " 'realiz closer abandon warehous student tie uncov ritual think occult filmmak gradual horror',\n",
              " 'friend boy romanc shakespear citi big girl look classic head becom set fall small-town modern two adventur rival',\n",
              " 'name love stori form fish romant mani bush comedi unconvent dungeon archimed take',\n",
              " 'standoff routin mercenari former ride-along caught get age rob bank band cop patrol partner',\n",
              " 'norway stori polit case juli system work horrif lawyer look peopl disast survivor terrorist three-part worst kill seventi attack',\n",
              " 'paradis human condit movi cent exist']"
            ]
          },
          "metadata": {},
          "execution_count": 295
        }
      ]
    },
    {
      "cell_type": "markdown",
      "metadata": {
        "id": "SqwLqKwDMhK3"
      },
      "source": [
        "## Splitting Dataset"
      ]
    },
    {
      "cell_type": "code",
      "metadata": {
        "colab": {
          "base_uri": "https://localhost:8080/"
        },
        "id": "BMscPZsKMhK3",
        "outputId": "70cb8b95-9469-4adf-c1a0-a399123c971f"
      },
      "source": [
        "from sklearn.model_selection import train_test_split\n",
        "y = df.iloc[:, 4::]\n",
        "X_train, X_test, y_train, y_test = train_test_split(df.corpus, y, test_size=0.2, random_state=42)\n",
        "print('X_train size: {}, X_test size: {}'.format(X_train.shape, X_test.shape))"
      ],
      "execution_count": 296,
      "outputs": [
        {
          "output_type": "stream",
          "name": "stdout",
          "text": [
            "X_train size: (9180,), X_test size: (2296,)\n"
          ]
        }
      ]
    },
    {
      "cell_type": "markdown",
      "metadata": {
        "id": "TZlmGLqSMhK4"
      },
      "source": [
        "## TFIDF Vetorization"
      ]
    },
    {
      "cell_type": "code",
      "metadata": {
        "id": "tD5iAw6EMhK4"
      },
      "source": [
        "from sklearn.feature_extraction.text import TfidfVectorizer\n",
        "\n",
        "vectorizer = TfidfVectorizer(max_features=10000)\n",
        "\n",
        "X_train_tfidf = vectorizer.fit_transform(X_train)\n",
        "X_train_tfidf = X_train_tfidf.toarray()\n",
        "\n",
        "X_test_tfidf = vectorizer.transform(X_test)\n",
        "X_test_tfidf = X_test_tfidf.toarray()"
      ],
      "execution_count": 297,
      "outputs": []
    },
    {
      "cell_type": "code",
      "metadata": {
        "colab": {
          "base_uri": "https://localhost:8080/"
        },
        "id": "rjZK83pLMhK4",
        "outputId": "98edb052-10e9-40c7-a576-09ad1a54092f"
      },
      "source": [
        "print('X_train_tfidf size: {}, X_test_tfidf size: {}'.format(X_train_tfidf.shape, X_test_tfidf.shape))"
      ],
      "execution_count": 298,
      "outputs": [
        {
          "output_type": "stream",
          "name": "stdout",
          "text": [
            "X_train_tfidf size: (9180, 10000), X_test_tfidf size: (2296, 10000)\n"
          ]
        }
      ]
    },
    {
      "cell_type": "markdown",
      "metadata": {
        "id": "ct2AlYCKMhK4"
      },
      "source": [
        "## Classification without LDA"
      ]
    },
    {
      "cell_type": "code",
      "metadata": {
        "id": "vrXbhnZWMhK4"
      },
      "source": [
        "from sklearn.multiclass import OneVsRestClassifier\n",
        "from sklearn.naive_bayes import GaussianNB\n",
        "from sklearn.naive_bayes import MultinomialNB\n",
        "from sklearn.linear_model import LogisticRegression\n",
        "from sklearn.neighbors import KNeighborsClassifier\n",
        "from sklearn.svm import SVC\n",
        "from sklearn.tree import DecisionTreeClassifier\n",
        "from sklearn.ensemble import RandomForestClassifier\n",
        "from xgboost import XGBClassifier\n",
        "from sklearn.metrics import f1_score, classification_report"
      ],
      "execution_count": 302,
      "outputs": []
    },
    {
      "cell_type": "markdown",
      "metadata": {
        "id": "nrS-cskgMhK5"
      },
      "source": [
        "### Naive Bayes"
      ]
    },
    {
      "cell_type": "code",
      "metadata": {
        "colab": {
          "base_uri": "https://localhost:8080/"
        },
        "id": "L-jYmtPOMhK5",
        "outputId": "3464c929-1a7e-4e82-ec13-c473b8a4ea4c"
      },
      "source": [
        "nb = OneVsRestClassifier(GaussianNB())\n",
        "nb.fit(X_train_tfidf, y_train)"
      ],
      "execution_count": 300,
      "outputs": [
        {
          "output_type": "execute_result",
          "data": {
            "text/plain": [
              "OneVsRestClassifier(estimator=GaussianNB(priors=None, var_smoothing=1e-09),\n",
              "                    n_jobs=None)"
            ]
          },
          "metadata": {},
          "execution_count": 300
        }
      ]
    },
    {
      "cell_type": "code",
      "metadata": {
        "colab": {
          "base_uri": "https://localhost:8080/"
        },
        "id": "7PNJajknMhK5",
        "outputId": "c393998f-0ea1-48c5-ad16-019362061e38"
      },
      "source": [
        "y_pred_nb = nb.predict(X_test_tfidf)\n",
        "print('F1-score of Naive Bayes: ' + str(round(f1_score(y_test, y_pred_nb, average='micro')*100, 2)) + '%')"
      ],
      "execution_count": 301,
      "outputs": [
        {
          "output_type": "stream",
          "name": "stdout",
          "text": [
            "F1-score of Naive Bayes: 37.26%\n"
          ]
        }
      ]
    },
    {
      "cell_type": "code",
      "metadata": {
        "colab": {
          "base_uri": "https://localhost:8080/"
        },
        "id": "Zbbce4BgAPCg",
        "outputId": "7bd4db73-7e57-4da8-c642-065567d02199"
      },
      "source": [
        "mnb = OneVsRestClassifier(MultinomialNB())\n",
        "mnb.fit(X_train_tfidf, y_train)"
      ],
      "execution_count": 306,
      "outputs": [
        {
          "output_type": "execute_result",
          "data": {
            "text/plain": [
              "OneVsRestClassifier(estimator=MultinomialNB(alpha=1.0, class_prior=None,\n",
              "                                            fit_prior=True),\n",
              "                    n_jobs=None)"
            ]
          },
          "metadata": {},
          "execution_count": 306
        }
      ]
    },
    {
      "cell_type": "code",
      "metadata": {
        "colab": {
          "base_uri": "https://localhost:8080/"
        },
        "id": "5BD7pHobAiTq",
        "outputId": "d32cd4e0-5c01-44f3-bcc1-a768a8c77721"
      },
      "source": [
        "y_pred_mnb = mnb.predict(X_test_tfidf)\n",
        "print('F1-score of Naive Bayes: ' + str(round(f1_score(y_test, y_pred_mnb, average='micro')*100, 2)) + '%')"
      ],
      "execution_count": 304,
      "outputs": [
        {
          "output_type": "stream",
          "name": "stdout",
          "text": [
            "F1-score of Naive Bayes: 27.16%\n"
          ]
        }
      ]
    },
    {
      "cell_type": "markdown",
      "metadata": {
        "id": "Yyt4H0WEMhK5"
      },
      "source": [
        "### Logistic Regression"
      ]
    },
    {
      "cell_type": "code",
      "metadata": {
        "id": "p8MSB_oDMhK5"
      },
      "source": [
        "lr = OneVsRestClassifier(LogisticRegression(random_state=42))\n",
        "lr.fit(X_train_tfidf, y_train)\n",
        "y_pred_lr = lr.predict(X_test_tfidf)\n",
        "print('F1-score Logistric Regression: ' + str(round(f1_score(y_test, y_pred_lr, average='micro')*100, 2)) + '%')"
      ],
      "execution_count": null,
      "outputs": []
    },
    {
      "cell_type": "markdown",
      "metadata": {
        "id": "xFKDpWoQMhK5"
      },
      "source": [
        "### K-Nearest Neighobr"
      ]
    },
    {
      "cell_type": "code",
      "metadata": {
        "id": "YEOLdbIsMhK6"
      },
      "source": [
        "knn = KNeighborsClassifier()\n",
        "knn.fit(X_train_tfidf, y_train)\n",
        "y_pred_knn = knn.predict(X_test_tfidf)\n",
        "print('F1-score K-Nearest Neighbour: ' + str(round(f1_score(y_test, y_pred_knn, average='micro')*100, 2)) + '%')"
      ],
      "execution_count": null,
      "outputs": []
    },
    {
      "cell_type": "markdown",
      "metadata": {
        "id": "Ie_Ju6ZSMhK6"
      },
      "source": [
        "### Support Vector Machine"
      ]
    },
    {
      "cell_type": "code",
      "metadata": {
        "id": "H2DuQF83MhK6"
      },
      "source": [
        "svc = OneVsRestClassifier(SVC())\n",
        "svc.fit(X_train_tfidf, y_train)\n",
        "y_pred_svc = svc.predict(X_test_tfidf)\n",
        "print('F1-score Support Vector Machine: ' + str(round(f1_score(y_test, y_pred_svc, average='micro')*100, 2)) + '%')"
      ],
      "execution_count": null,
      "outputs": []
    },
    {
      "cell_type": "markdown",
      "metadata": {
        "id": "zjK1i3anMhK6"
      },
      "source": [
        "### Decision Tree"
      ]
    },
    {
      "cell_type": "code",
      "metadata": {
        "id": "LyHq2YGrMhK6"
      },
      "source": [
        "dt = DecisionTreeClassifier(random_state=42)\n",
        "dt.fit(X_train_tfidf, y_train)\n",
        "y_pred_dt = dt.predict(X_test_tfidf)\n",
        "print('F1-score Decistion Tree: ' + str(round(f1_score(y_test, y_pred_dt, average='micro')*100, 2)) + '%')"
      ],
      "execution_count": null,
      "outputs": []
    },
    {
      "cell_type": "markdown",
      "metadata": {
        "id": "m3LQrMOCMhK7"
      },
      "source": [
        "### Random Forest"
      ]
    },
    {
      "cell_type": "code",
      "metadata": {
        "id": "xPmjQOfZMhK7"
      },
      "source": [
        "rf = RandomForestClassifier(random_state=42)\n",
        "rf.fit(X_train_tfidf, y_train)\n",
        "y_pred_rf = rf.predict(X_test_tfidf)\n",
        "print('F1-score: ' + str(round(f1_score(y_test, y_pred_rf, average='micro')*100, 2)) + '%')"
      ],
      "execution_count": null,
      "outputs": []
    },
    {
      "cell_type": "markdown",
      "metadata": {
        "id": "Hv7wmxBJMhK7"
      },
      "source": [
        "### XGBoost"
      ]
    },
    {
      "cell_type": "code",
      "metadata": {
        "id": "qzU0yC8WMhK7"
      },
      "source": [
        "xgb = OneVsRestClassifier(XGBClassifier(random_state=42, eval_metric='mlogloss'))\n",
        "xgb.fit(X_train_tfidf, y_train)\n",
        "y_pred_xgb = xgb.predict(X_test_tfidf)\n",
        "print('F1-score: ' + str(round(f1_score(y_test, y_pred_xgb, average='micro')*100, 2)) + '%')"
      ],
      "execution_count": null,
      "outputs": []
    },
    {
      "cell_type": "markdown",
      "metadata": {
        "id": "iXOA_3JPMhK7"
      },
      "source": [
        "## Classification with LDA"
      ]
    },
    {
      "cell_type": "code",
      "metadata": {
        "id": "OSvPdDSlMhK7"
      },
      "source": [
        "from sklearn.decomposition import LatentDirichletAllocation\n",
        "\n",
        "#สร้าง model LDA โดยกำหนดจำนวน topics = 20\n",
        "lda = LatentDirichletAllocation(n_components=20, random_state=42)\n",
        "\n",
        "#Fit และ Transform\n",
        "X_train_lda = lda.fit_transform(X_train_tfidf)\n",
        "X_test_lda = lda.transform(X_test_tfidf)\n",
        "\n",
        "lda_components = lda.components_\n",
        "terms = vectorizer.get_feature_names()\n",
        "\n",
        "for index, component in enumerate(lda_components):\n",
        "    zipped = zip(terms, component)\n",
        "    top_terms_key = sorted(zipped, key=lambda t: t[1], reverse=True)[:7]\n",
        "    top_terms_list = list(dict(top_terms_key).keys())\n",
        "    print(\"Topic \"+str(index+1)+\": \", top_terms_list)"
      ],
      "execution_count": null,
      "outputs": []
    },
    {
      "cell_type": "code",
      "metadata": {
        "id": "pGlaQhFbMhK8"
      },
      "source": [
        "nb_lda = OneVsRestClassifier(GaussianNB())\n",
        "nb_lda.fit(X_train_lda, y_train)\n",
        "y_pred_nb_lda = nb_lda.predict(X_test_lda)\n",
        "sc_nb_lda = f1_score(y_test, y_pred_nb_lda, average='micro')\n",
        "print('F1-score of Naive Bayes with LDA: ' + str(round(sc_nb_lda*100, 2)) + '%')"
      ],
      "execution_count": null,
      "outputs": []
    },
    {
      "cell_type": "code",
      "metadata": {
        "id": "SSQirjPkMhK8"
      },
      "source": [
        "lr_lda = OneVsRestClassifier(LogisticRegression(random_state=42))\n",
        "lr_lda.fit(X_train_lda, y_train)\n",
        "y_pred_lr_lda = lr_lda.predict(X_test_lda)\n",
        "sc_lr_lda = f1_score(y_test, y_pred_lr_lda, average='micro')\n",
        "print('F1-score of Logistic Regression with LDA: ' + str(round(sc_lr_lda*100, 2)) + '%')"
      ],
      "execution_count": null,
      "outputs": []
    },
    {
      "cell_type": "code",
      "metadata": {
        "id": "nVgetXVJMhK8"
      },
      "source": [
        "knn_lda = KNeighborsClassifier()\n",
        "knn_lda.fit(X_train_lda, y_train)\n",
        "y_pred_knn_lda = knn_lda.predict(X_test_lda)\n",
        "sc_knn_lda = f1_score(y_test, y_pred_knn_lda, average='micro')\n",
        "print('F1-score of K-Nearest Neighbor with LDA: ' + str(round(sc_knn_lda*100, 2)) + '%')"
      ],
      "execution_count": null,
      "outputs": []
    },
    {
      "cell_type": "code",
      "metadata": {
        "id": "oTJrukmOMhK8"
      },
      "source": [
        "#svm"
      ],
      "execution_count": null,
      "outputs": []
    },
    {
      "cell_type": "code",
      "metadata": {
        "id": "AWHTkP9KMhK8"
      },
      "source": [
        "dt_lda = DecisionTreeClassifier(random_state=42)\n",
        "dt_lda.fit(X_train_lda, y_train)\n",
        "y_pred_dt_lda = dt_lda.predict(X_test_lda)\n",
        "sc_dt_lda = f1_score(y_test, y_pred_dt_lda, average='micro')\n",
        "print('F1-score of Decision Tree with LDA: ' + str(round(sc_dt_lda*100, 2)) + '%')"
      ],
      "execution_count": null,
      "outputs": []
    },
    {
      "cell_type": "code",
      "metadata": {
        "id": "NkH-OOMWMhK9"
      },
      "source": [
        "rf_lda = RandomForestClassifier(random_state=42)\n",
        "rf_lda.fit(X_train_lda, y_train)\n",
        "y_pred_rf_lda = rf_lda.predict(X_test_lda)\n",
        "sc_rf_lda = f1_score(y_test, y_pred_rf_lda, average='micro')\n",
        "print('F1-score of Random Forest with LDA: ' + str(round(sc_rf_lda*100, 2)) + '%')"
      ],
      "execution_count": null,
      "outputs": []
    },
    {
      "cell_type": "code",
      "metadata": {
        "id": "EniMdXecMhK9"
      },
      "source": [
        "xgb_lda = XGBClassifier(random_state=42, eval_metric='mlogloss')\n",
        "xgb_lda = OneVsRestClassifier(xgb_lda)\n",
        "xgb_lda.fit(X_train_lda, y_train)\n",
        "y_pred_xgb_lda = xgb_lda.predict(X_test_lda)\n",
        "sc_xgb_lda = f1_score(y_test, y_pred_xgb_lda, average='micro')\n",
        "print('F1-score of XGBoost with LDA: ' + str(round(sc_xgb_lda*100, 2)) + '%')"
      ],
      "execution_count": null,
      "outputs": []
    },
    {
      "cell_type": "code",
      "metadata": {
        "id": "qFT80VDtMhK9"
      },
      "source": [
        "f1 = []\n",
        "for i in range(X_test.shape[0]):\n",
        "  f1.append(f1_score(y_test[i], y_pred_xgb_lda[i]))\n",
        "f1\n",
        "#หา sentence ทั้งหมดที่ทำนายผิด หรือถูก เพื่อดูรูปแบบ text"
      ],
      "execution_count": null,
      "outputs": []
    },
    {
      "cell_type": "markdown",
      "metadata": {
        "id": "l0S53vdEMhK9"
      },
      "source": [
        ""
      ]
    }
  ]
}