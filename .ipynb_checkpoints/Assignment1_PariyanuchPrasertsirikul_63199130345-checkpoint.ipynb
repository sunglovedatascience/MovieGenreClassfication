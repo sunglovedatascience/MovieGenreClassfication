{
 "cells": [
  {
   "cell_type": "markdown",
   "metadata": {},
   "source": [
    "# Movie Classification"
   ]
  },
  {
   "cell_type": "markdown",
   "metadata": {},
   "source": [
    "## 1. Web Scrapping"
   ]
  },
  {
   "cell_type": "markdown",
   "metadata": {},
   "source": [
    "ทำการ Scrape โดยเลือกประเภทหนังเป็น Feature Film ในประเทศอเมริกา ตั้งแต่ปี 2018 ถึง 2021 ooooooooooooooooooo"
   ]
  },
  {
   "cell_type": "code",
   "execution_count": 1,
   "metadata": {},
   "outputs": [],
   "source": [
    "from requests import get\n",
    "from bs4 import BeautifulSoup\n",
    "import pandas as pd\n",
    "import numpy as np"
   ]
  },
  {
   "cell_type": "code",
   "execution_count": 16,
   "metadata": {},
   "outputs": [],
   "source": [
    "page_movie = []\n",
    "\n",
    "for i in [2018, 2019, 2020, 2021]:\n",
    "    for j in range(1, 4200, 100):\n",
    "        url = \"https://www.imdb.com/search/title/?title_type=feature&release_date=\"+str(i)+\"-01-01,\"+str(i)+\"-12-31&countries=us&sort=alpha,asc&count=100&start=\"+str(j)+\"&ref_=adv_nxt\"\n",
    "        response = get(url)\n",
    "        html_soup = BeautifulSoup(response.text, 'html.parser')\n",
    "        movie_containers = html_soup.find_all('div', class_ = 'lister-item mode-advanced')\n",
    "\n",
    "        names = []\n",
    "        years = []\n",
    "        genres = []\n",
    "        descriptions = []\n",
    "\n",
    "        for container in movie_containers:\n",
    "\n",
    "            if (container.find('span', attrs = {'class': 'genre'}) is not None) and ((container.find_all('p', attrs={'class':'text-muted'})[-1].text) != '\\nAdd a Plot\\n'):\n",
    "\n",
    "                name = container.h3.a.text\n",
    "                names.append(name)\n",
    "\n",
    "                year = container.h3.find('span', class_ = 'lister-item-year').text\n",
    "                years.append(year)\n",
    "\n",
    "                genre = container.find('span', attrs = {'class': 'genre'}).text\n",
    "                genres.append(genre)\n",
    "\n",
    "                description = container.find_all('p', attrs={'class':'text-muted'})[-1].text\n",
    "                descriptions.append(description)\n",
    "        test_df = pd.DataFrame({'movie': names,\n",
    "                           'year': years,\n",
    "                           'genres': genres,\n",
    "                           'descriptions': descriptions})\n",
    "        page_movie.append(test_df)"
   ]
  },
  {
   "cell_type": "code",
   "execution_count": 21,
   "metadata": {
    "scrolled": false
   },
   "outputs": [
    {
     "data": {
      "text/html": [
       "<div>\n",
       "<style scoped>\n",
       "    .dataframe tbody tr th:only-of-type {\n",
       "        vertical-align: middle;\n",
       "    }\n",
       "\n",
       "    .dataframe tbody tr th {\n",
       "        vertical-align: top;\n",
       "    }\n",
       "\n",
       "    .dataframe thead th {\n",
       "        text-align: right;\n",
       "    }\n",
       "</style>\n",
       "<table border=\"1\" class=\"dataframe\">\n",
       "  <thead>\n",
       "    <tr style=\"text-align: right;\">\n",
       "      <th></th>\n",
       "      <th>movie</th>\n",
       "      <th>year</th>\n",
       "      <th>genres</th>\n",
       "      <th>descriptions</th>\n",
       "    </tr>\n",
       "  </thead>\n",
       "  <tbody>\n",
       "    <tr>\n",
       "      <th>0</th>\n",
       "      <td>#1915House</td>\n",
       "      <td>(2018)</td>\n",
       "      <td>\\nHorror, Thriller</td>\n",
       "      <td>\\nA century of secrets are hidden behind the f...</td>\n",
       "    </tr>\n",
       "    <tr>\n",
       "      <th>1</th>\n",
       "      <td>#SquadGoals</td>\n",
       "      <td>(2018)</td>\n",
       "      <td>\\nDrama, Thriller</td>\n",
       "      <td>\\nSamantha is a serious journalist, both for t...</td>\n",
       "    </tr>\n",
       "    <tr>\n",
       "      <th>2</th>\n",
       "      <td>#Victoria</td>\n",
       "      <td>(2018)</td>\n",
       "      <td>\\nAction, Drama</td>\n",
       "      <td>\\nVictoria moves from out of town into the poo...</td>\n",
       "    </tr>\n",
       "    <tr>\n",
       "      <th>3</th>\n",
       "      <td>1 Angry Black Man</td>\n",
       "      <td>(2018)</td>\n",
       "      <td>\\nDrama</td>\n",
       "      <td>\\nMike Anderson is a senior at the quintessent...</td>\n",
       "    </tr>\n",
       "    <tr>\n",
       "      <th>4</th>\n",
       "      <td>1 Dead man, 6 Suspects, $65 Million</td>\n",
       "      <td>(2018)</td>\n",
       "      <td>\\nMystery</td>\n",
       "      <td>\\nA low budget but slick \"who done it\" involvi...</td>\n",
       "    </tr>\n",
       "    <tr>\n",
       "      <th>...</th>\n",
       "      <td>...</td>\n",
       "      <td>...</td>\n",
       "      <td>...</td>\n",
       "      <td>...</td>\n",
       "    </tr>\n",
       "    <tr>\n",
       "      <th>82</th>\n",
       "      <td>A Motion Selfie</td>\n",
       "      <td>(2018)</td>\n",
       "      <td>\\nBiography, Comedy, Drama</td>\n",
       "      <td>\\n\"A Motion Selfie\" is one-of-a-kind DIY filmm...</td>\n",
       "    </tr>\n",
       "    <tr>\n",
       "      <th>83</th>\n",
       "      <td>A Murder of Innocence</td>\n",
       "      <td>(2018)</td>\n",
       "      <td>\\nCrime</td>\n",
       "      <td>\\nBased on a true story, a community is rocked...</td>\n",
       "    </tr>\n",
       "    <tr>\n",
       "      <th>84</th>\n",
       "      <td>A Natural Disaster</td>\n",
       "      <td>(2018)</td>\n",
       "      <td>\\nDrama</td>\n",
       "      <td>\\n24 hours after an earthquake shakes Los Ange...</td>\n",
       "    </tr>\n",
       "    <tr>\n",
       "      <th>85</th>\n",
       "      <td>A Nice Quiet Life</td>\n",
       "      <td>(2018)</td>\n",
       "      <td>\\nDrama, Romance</td>\n",
       "      <td>\\nTwo college students fall in love one year b...</td>\n",
       "    </tr>\n",
       "    <tr>\n",
       "      <th>86</th>\n",
       "      <td>A Night to Regret</td>\n",
       "      <td>(2018)</td>\n",
       "      <td>\\nThriller</td>\n",
       "      <td>\\nWhen Chelsea meets up with her estranged chi...</td>\n",
       "    </tr>\n",
       "  </tbody>\n",
       "</table>\n",
       "<p>87 rows × 4 columns</p>\n",
       "</div>"
      ],
      "text/plain": [
       "                                  movie    year  \\\n",
       "0                            #1915House  (2018)   \n",
       "1                           #SquadGoals  (2018)   \n",
       "2                             #Victoria  (2018)   \n",
       "3                     1 Angry Black Man  (2018)   \n",
       "4   1 Dead man, 6 Suspects, $65 Million  (2018)   \n",
       "..                                  ...     ...   \n",
       "82                      A Motion Selfie  (2018)   \n",
       "83                A Murder of Innocence  (2018)   \n",
       "84                   A Natural Disaster  (2018)   \n",
       "85                    A Nice Quiet Life  (2018)   \n",
       "86                    A Night to Regret  (2018)   \n",
       "\n",
       "                                    genres  \\\n",
       "0           \\nHorror, Thriller               \n",
       "1            \\nDrama, Thriller               \n",
       "2              \\nAction, Drama               \n",
       "3                      \\nDrama               \n",
       "4                    \\nMystery               \n",
       "..                                     ...   \n",
       "82  \\nBiography, Comedy, Drama               \n",
       "83                     \\nCrime               \n",
       "84                     \\nDrama               \n",
       "85            \\nDrama, Romance               \n",
       "86                  \\nThriller               \n",
       "\n",
       "                                         descriptions  \n",
       "0   \\nA century of secrets are hidden behind the f...  \n",
       "1   \\nSamantha is a serious journalist, both for t...  \n",
       "2   \\nVictoria moves from out of town into the poo...  \n",
       "3   \\nMike Anderson is a senior at the quintessent...  \n",
       "4   \\nA low budget but slick \"who done it\" involvi...  \n",
       "..                                                ...  \n",
       "82  \\n\"A Motion Selfie\" is one-of-a-kind DIY filmm...  \n",
       "83  \\nBased on a true story, a community is rocked...  \n",
       "84  \\n24 hours after an earthquake shakes Los Ange...  \n",
       "85  \\nTwo college students fall in love one year b...  \n",
       "86  \\nWhen Chelsea meets up with her estranged chi...  \n",
       "\n",
       "[87 rows x 4 columns]"
      ]
     },
     "execution_count": 21,
     "metadata": {},
     "output_type": "execute_result"
    }
   ],
   "source": [
    "page_movie[0]"
   ]
  },
  {
   "cell_type": "code",
   "execution_count": 62,
   "metadata": {},
   "outputs": [
    {
     "data": {
      "text/html": [
       "<div>\n",
       "<style scoped>\n",
       "    .dataframe tbody tr th:only-of-type {\n",
       "        vertical-align: middle;\n",
       "    }\n",
       "\n",
       "    .dataframe tbody tr th {\n",
       "        vertical-align: top;\n",
       "    }\n",
       "\n",
       "    .dataframe thead th {\n",
       "        text-align: right;\n",
       "    }\n",
       "</style>\n",
       "<table border=\"1\" class=\"dataframe\">\n",
       "  <thead>\n",
       "    <tr style=\"text-align: right;\">\n",
       "      <th></th>\n",
       "      <th>movie</th>\n",
       "      <th>year</th>\n",
       "      <th>genres</th>\n",
       "      <th>descriptions</th>\n",
       "    </tr>\n",
       "  </thead>\n",
       "  <tbody>\n",
       "    <tr>\n",
       "      <th>0</th>\n",
       "      <td>#1915House</td>\n",
       "      <td>(2018)</td>\n",
       "      <td>\\nHorror, Thriller</td>\n",
       "      <td>\\nA century of secrets are hidden behind the f...</td>\n",
       "    </tr>\n",
       "    <tr>\n",
       "      <th>1</th>\n",
       "      <td>#SquadGoals</td>\n",
       "      <td>(2018)</td>\n",
       "      <td>\\nDrama, Thriller</td>\n",
       "      <td>\\nSamantha is a serious journalist, both for t...</td>\n",
       "    </tr>\n",
       "    <tr>\n",
       "      <th>2</th>\n",
       "      <td>#Victoria</td>\n",
       "      <td>(2018)</td>\n",
       "      <td>\\nAction, Drama</td>\n",
       "      <td>\\nVictoria moves from out of town into the poo...</td>\n",
       "    </tr>\n",
       "    <tr>\n",
       "      <th>3</th>\n",
       "      <td>1 Angry Black Man</td>\n",
       "      <td>(2018)</td>\n",
       "      <td>\\nDrama</td>\n",
       "      <td>\\nMike Anderson is a senior at the quintessent...</td>\n",
       "    </tr>\n",
       "    <tr>\n",
       "      <th>4</th>\n",
       "      <td>1 Dead man, 6 Suspects, $65 Million</td>\n",
       "      <td>(2018)</td>\n",
       "      <td>\\nMystery</td>\n",
       "      <td>\\nA low budget but slick \"who done it\" involvi...</td>\n",
       "    </tr>\n",
       "    <tr>\n",
       "      <th>...</th>\n",
       "      <td>...</td>\n",
       "      <td>...</td>\n",
       "      <td>...</td>\n",
       "      <td>...</td>\n",
       "    </tr>\n",
       "    <tr>\n",
       "      <th>12360</th>\n",
       "      <td>Zone Drifter</td>\n",
       "      <td>(2021)</td>\n",
       "      <td>\\nSci-Fi</td>\n",
       "      <td>\\nIn the distant future, a former soldier batt...</td>\n",
       "    </tr>\n",
       "    <tr>\n",
       "      <th>12361</th>\n",
       "      <td>Zooey</td>\n",
       "      <td>(2021)</td>\n",
       "      <td>\\nComedy, Drama, Sci-Fi</td>\n",
       "      <td>\\nWhen a young boy, Noah, meets Zooey, a young...</td>\n",
       "    </tr>\n",
       "    <tr>\n",
       "      <th>12362</th>\n",
       "      <td>Zwtral</td>\n",
       "      <td>(2021)</td>\n",
       "      <td>\\nMystery</td>\n",
       "      <td>\\nMaking trades is his life. Justin finds hims...</td>\n",
       "    </tr>\n",
       "    <tr>\n",
       "      <th>12363</th>\n",
       "      <td>bUMS</td>\n",
       "      <td>(2021)</td>\n",
       "      <td>\\nDrama</td>\n",
       "      <td>\\nAfter spending decades surviving on the stre...</td>\n",
       "    </tr>\n",
       "    <tr>\n",
       "      <th>12364</th>\n",
       "      <td>d'ILLUSION: The Houdini Musical</td>\n",
       "      <td>(2021)</td>\n",
       "      <td>\\nBiography, Drama, Musical</td>\n",
       "      <td>\\nThe University of Cincinnati - College-Conse...</td>\n",
       "    </tr>\n",
       "  </tbody>\n",
       "</table>\n",
       "<p>12365 rows × 4 columns</p>\n",
       "</div>"
      ],
      "text/plain": [
       "                                     movie    year  \\\n",
       "0                               #1915House  (2018)   \n",
       "1                              #SquadGoals  (2018)   \n",
       "2                                #Victoria  (2018)   \n",
       "3                        1 Angry Black Man  (2018)   \n",
       "4      1 Dead man, 6 Suspects, $65 Million  (2018)   \n",
       "...                                    ...     ...   \n",
       "12360                         Zone Drifter  (2021)   \n",
       "12361                                Zooey  (2021)   \n",
       "12362                               Zwtral  (2021)   \n",
       "12363                                 bUMS  (2021)   \n",
       "12364      d'ILLUSION: The Houdini Musical  (2021)   \n",
       "\n",
       "                                        genres  \\\n",
       "0               \\nHorror, Thriller               \n",
       "1                \\nDrama, Thriller               \n",
       "2                  \\nAction, Drama               \n",
       "3                          \\nDrama               \n",
       "4                        \\nMystery               \n",
       "...                                        ...   \n",
       "12360                     \\nSci-Fi               \n",
       "12361      \\nComedy, Drama, Sci-Fi               \n",
       "12362                    \\nMystery               \n",
       "12363                      \\nDrama               \n",
       "12364  \\nBiography, Drama, Musical               \n",
       "\n",
       "                                            descriptions  \n",
       "0      \\nA century of secrets are hidden behind the f...  \n",
       "1      \\nSamantha is a serious journalist, both for t...  \n",
       "2      \\nVictoria moves from out of town into the poo...  \n",
       "3      \\nMike Anderson is a senior at the quintessent...  \n",
       "4      \\nA low budget but slick \"who done it\" involvi...  \n",
       "...                                                  ...  \n",
       "12360  \\nIn the distant future, a former soldier batt...  \n",
       "12361  \\nWhen a young boy, Noah, meets Zooey, a young...  \n",
       "12362  \\nMaking trades is his life. Justin finds hims...  \n",
       "12363  \\nAfter spending decades surviving on the stre...  \n",
       "12364  \\nThe University of Cincinnati - College-Conse...  \n",
       "\n",
       "[12365 rows x 4 columns]"
      ]
     },
     "execution_count": 62,
     "metadata": {},
     "output_type": "execute_result"
    }
   ],
   "source": [
    "df = pd.concat(page_movie).reset_index(drop=True)\n",
    "df"
   ]
  },
  {
   "cell_type": "markdown",
   "metadata": {},
   "source": [
    "## 2. Data Preparation"
   ]
  },
  {
   "cell_type": "markdown",
   "metadata": {},
   "source": [
    "### year"
   ]
  },
  {
   "cell_type": "code",
   "execution_count": 63,
   "metadata": {},
   "outputs": [
    {
     "data": {
      "text/plain": [
       "array(['(2018)', '(I) (2018)', '', '(II) (2018)', '(III) (2018)',\n",
       "       '(IV) (2018)', '(V) (2018)', '(IX) (2018)', '(XXIII)',\n",
       "       '(VI) (2018)', '(VIII) (2018)', '(2019)', '(VII)',\n",
       "       '(XVIII) (2018)', '(I)', '(II)', '(XVI) (2018)', '(II) (2019)',\n",
       "       '(I) (2019)', '(IV) (2019)', '(V) (2019)', '(III) (2019)',\n",
       "       '(VI) (2019)', '(VIII) (2019)', '(XXXV) (2019)', '(VII) (2019)',\n",
       "       '(X) (2019)', '(IX) (2019)', '(XII) (2019)', '(2020)',\n",
       "       '(III) (2020)', '(II) (2020)', '(I) (2020)', '(XXI) (2020)',\n",
       "       '(V) (2020)', '(VI) (2020)', '(IV) (2020)', '(2021)',\n",
       "       '(VIII) (2020)', '(XI) (2020)', '(I) (2021)', '(II) (2021)',\n",
       "       '(IV) (2021)', '(XII) (2021)', '(III) (2021)', '(V) (2021)',\n",
       "       '(VI)'], dtype=object)"
      ]
     },
     "execution_count": 63,
     "metadata": {},
     "output_type": "execute_result"
    }
   ],
   "source": [
    "df.year.unique()"
   ]
  },
  {
   "cell_type": "code",
   "execution_count": 64,
   "metadata": {},
   "outputs": [
    {
     "data": {
      "text/plain": [
       "array(['2018', '2019', '2020', '2021'], dtype=object)"
      ]
     },
     "execution_count": 64,
     "metadata": {},
     "output_type": "execute_result"
    }
   ],
   "source": [
    "df.year = df.year.str.extract('(\\d+)')\n",
    "df.year = df.year.ffill(axis = 0)\n",
    "df.year.unique()"
   ]
  },
  {
   "cell_type": "code",
   "execution_count": 65,
   "metadata": {},
   "outputs": [
    {
     "data": {
      "text/html": [
       "<div>\n",
       "<style scoped>\n",
       "    .dataframe tbody tr th:only-of-type {\n",
       "        vertical-align: middle;\n",
       "    }\n",
       "\n",
       "    .dataframe tbody tr th {\n",
       "        vertical-align: top;\n",
       "    }\n",
       "\n",
       "    .dataframe thead th {\n",
       "        text-align: right;\n",
       "    }\n",
       "</style>\n",
       "<table border=\"1\" class=\"dataframe\">\n",
       "  <thead>\n",
       "    <tr style=\"text-align: right;\">\n",
       "      <th></th>\n",
       "      <th>year</th>\n",
       "      <th>count</th>\n",
       "    </tr>\n",
       "  </thead>\n",
       "  <tbody>\n",
       "    <tr>\n",
       "      <th>0</th>\n",
       "      <td>2018</td>\n",
       "      <td>3359</td>\n",
       "    </tr>\n",
       "    <tr>\n",
       "      <th>1</th>\n",
       "      <td>2019</td>\n",
       "      <td>2906</td>\n",
       "    </tr>\n",
       "    <tr>\n",
       "      <th>2</th>\n",
       "      <td>2020</td>\n",
       "      <td>2930</td>\n",
       "    </tr>\n",
       "    <tr>\n",
       "      <th>3</th>\n",
       "      <td>2021</td>\n",
       "      <td>3170</td>\n",
       "    </tr>\n",
       "  </tbody>\n",
       "</table>\n",
       "</div>"
      ],
      "text/plain": [
       "   year  count\n",
       "0  2018   3359\n",
       "1  2019   2906\n",
       "2  2020   2930\n",
       "3  2021   3170"
      ]
     },
     "execution_count": 65,
     "metadata": {},
     "output_type": "execute_result"
    }
   ],
   "source": [
    "df.groupby(['year']).size().reset_index(name='count')"
   ]
  },
  {
   "cell_type": "code",
   "execution_count": 66,
   "metadata": {},
   "outputs": [
    {
     "data": {
      "text/html": [
       "<div>\n",
       "<style scoped>\n",
       "    .dataframe tbody tr th:only-of-type {\n",
       "        vertical-align: middle;\n",
       "    }\n",
       "\n",
       "    .dataframe tbody tr th {\n",
       "        vertical-align: top;\n",
       "    }\n",
       "\n",
       "    .dataframe thead th {\n",
       "        text-align: right;\n",
       "    }\n",
       "</style>\n",
       "<table border=\"1\" class=\"dataframe\">\n",
       "  <thead>\n",
       "    <tr style=\"text-align: right;\">\n",
       "      <th></th>\n",
       "      <th>movie</th>\n",
       "      <th>year</th>\n",
       "      <th>genres</th>\n",
       "      <th>descriptions</th>\n",
       "    </tr>\n",
       "  </thead>\n",
       "  <tbody>\n",
       "    <tr>\n",
       "      <th>0</th>\n",
       "      <td>#1915House</td>\n",
       "      <td>2018</td>\n",
       "      <td>Horror, Thriller</td>\n",
       "      <td>\\nA century of secrets are hidden behind the f...</td>\n",
       "    </tr>\n",
       "    <tr>\n",
       "      <th>1</th>\n",
       "      <td>#SquadGoals</td>\n",
       "      <td>2018</td>\n",
       "      <td>Drama, Thriller</td>\n",
       "      <td>\\nSamantha is a serious journalist, both for t...</td>\n",
       "    </tr>\n",
       "    <tr>\n",
       "      <th>2</th>\n",
       "      <td>#Victoria</td>\n",
       "      <td>2018</td>\n",
       "      <td>Action, Drama</td>\n",
       "      <td>\\nVictoria moves from out of town into the poo...</td>\n",
       "    </tr>\n",
       "    <tr>\n",
       "      <th>3</th>\n",
       "      <td>1 Angry Black Man</td>\n",
       "      <td>2018</td>\n",
       "      <td>Drama</td>\n",
       "      <td>\\nMike Anderson is a senior at the quintessent...</td>\n",
       "    </tr>\n",
       "    <tr>\n",
       "      <th>4</th>\n",
       "      <td>1 Dead man, 6 Suspects, $65 Million</td>\n",
       "      <td>2018</td>\n",
       "      <td>Mystery</td>\n",
       "      <td>\\nA low budget but slick \"who done it\" involvi...</td>\n",
       "    </tr>\n",
       "  </tbody>\n",
       "</table>\n",
       "</div>"
      ],
      "text/plain": [
       "                                 movie  year            genres  \\\n",
       "0                           #1915House  2018  Horror, Thriller   \n",
       "1                          #SquadGoals  2018   Drama, Thriller   \n",
       "2                            #Victoria  2018     Action, Drama   \n",
       "3                    1 Angry Black Man  2018             Drama   \n",
       "4  1 Dead man, 6 Suspects, $65 Million  2018           Mystery   \n",
       "\n",
       "                                        descriptions  \n",
       "0  \\nA century of secrets are hidden behind the f...  \n",
       "1  \\nSamantha is a serious journalist, both for t...  \n",
       "2  \\nVictoria moves from out of town into the poo...  \n",
       "3  \\nMike Anderson is a senior at the quintessent...  \n",
       "4  \\nA low budget but slick \"who done it\" involvi...  "
      ]
     },
     "execution_count": 66,
     "metadata": {},
     "output_type": "execute_result"
    }
   ],
   "source": [
    "df.genres = df.genres.str.strip()\n",
    "df.head()"
   ]
  },
  {
   "cell_type": "code",
   "execution_count": 67,
   "metadata": {},
   "outputs": [
    {
     "data": {
      "text/plain": [
       "['Action',\n",
       " 'Adventure',\n",
       " 'Animation',\n",
       " 'Biography',\n",
       " 'Comedy',\n",
       " 'Crime',\n",
       " 'Drama',\n",
       " 'Family',\n",
       " 'Fantasy',\n",
       " 'Game-Show',\n",
       " 'History',\n",
       " 'Horror',\n",
       " 'Music',\n",
       " 'Musical',\n",
       " 'Mystery',\n",
       " 'News',\n",
       " 'Reality-TV',\n",
       " 'Romance',\n",
       " 'Sci-Fi',\n",
       " 'Sport',\n",
       " 'Talk-Show',\n",
       " 'Thriller',\n",
       " 'War',\n",
       " 'Western']"
      ]
     },
     "execution_count": 67,
     "metadata": {},
     "output_type": "execute_result"
    }
   ],
   "source": [
    "all_genres = df.genres.tolist()\n",
    "all_genres = \", \".join(all_genres)\n",
    "all_genres = sorted(list(set(all_genres.split(\", \"))))\n",
    "all_genres"
   ]
  },
  {
   "cell_type": "code",
   "execution_count": 68,
   "metadata": {},
   "outputs": [
    {
     "data": {
      "text/html": [
       "<div>\n",
       "<style scoped>\n",
       "    .dataframe tbody tr th:only-of-type {\n",
       "        vertical-align: middle;\n",
       "    }\n",
       "\n",
       "    .dataframe tbody tr th {\n",
       "        vertical-align: top;\n",
       "    }\n",
       "\n",
       "    .dataframe thead th {\n",
       "        text-align: right;\n",
       "    }\n",
       "</style>\n",
       "<table border=\"1\" class=\"dataframe\">\n",
       "  <thead>\n",
       "    <tr style=\"text-align: right;\">\n",
       "      <th></th>\n",
       "      <th>movie</th>\n",
       "      <th>year</th>\n",
       "      <th>genres</th>\n",
       "      <th>descriptions</th>\n",
       "      <th>Action</th>\n",
       "      <th>Adventure</th>\n",
       "      <th>Animation</th>\n",
       "      <th>Biography</th>\n",
       "      <th>Comedy</th>\n",
       "      <th>Crime</th>\n",
       "      <th>...</th>\n",
       "      <th>Mystery</th>\n",
       "      <th>News</th>\n",
       "      <th>Reality-TV</th>\n",
       "      <th>Romance</th>\n",
       "      <th>Sci-Fi</th>\n",
       "      <th>Sport</th>\n",
       "      <th>Talk-Show</th>\n",
       "      <th>Thriller</th>\n",
       "      <th>War</th>\n",
       "      <th>Western</th>\n",
       "    </tr>\n",
       "  </thead>\n",
       "  <tbody>\n",
       "    <tr>\n",
       "      <th>0</th>\n",
       "      <td>#1915House</td>\n",
       "      <td>2018</td>\n",
       "      <td>Horror, Thriller</td>\n",
       "      <td>\\nA century of secrets are hidden behind the f...</td>\n",
       "      <td>0</td>\n",
       "      <td>0</td>\n",
       "      <td>0</td>\n",
       "      <td>0</td>\n",
       "      <td>0</td>\n",
       "      <td>0</td>\n",
       "      <td>...</td>\n",
       "      <td>0</td>\n",
       "      <td>0</td>\n",
       "      <td>0</td>\n",
       "      <td>0</td>\n",
       "      <td>0</td>\n",
       "      <td>0</td>\n",
       "      <td>0</td>\n",
       "      <td>1</td>\n",
       "      <td>0</td>\n",
       "      <td>0</td>\n",
       "    </tr>\n",
       "    <tr>\n",
       "      <th>1</th>\n",
       "      <td>#SquadGoals</td>\n",
       "      <td>2018</td>\n",
       "      <td>Drama, Thriller</td>\n",
       "      <td>\\nSamantha is a serious journalist, both for t...</td>\n",
       "      <td>0</td>\n",
       "      <td>0</td>\n",
       "      <td>0</td>\n",
       "      <td>0</td>\n",
       "      <td>0</td>\n",
       "      <td>0</td>\n",
       "      <td>...</td>\n",
       "      <td>0</td>\n",
       "      <td>0</td>\n",
       "      <td>0</td>\n",
       "      <td>0</td>\n",
       "      <td>0</td>\n",
       "      <td>0</td>\n",
       "      <td>0</td>\n",
       "      <td>1</td>\n",
       "      <td>0</td>\n",
       "      <td>0</td>\n",
       "    </tr>\n",
       "    <tr>\n",
       "      <th>2</th>\n",
       "      <td>#Victoria</td>\n",
       "      <td>2018</td>\n",
       "      <td>Action, Drama</td>\n",
       "      <td>\\nVictoria moves from out of town into the poo...</td>\n",
       "      <td>1</td>\n",
       "      <td>0</td>\n",
       "      <td>0</td>\n",
       "      <td>0</td>\n",
       "      <td>0</td>\n",
       "      <td>0</td>\n",
       "      <td>...</td>\n",
       "      <td>0</td>\n",
       "      <td>0</td>\n",
       "      <td>0</td>\n",
       "      <td>0</td>\n",
       "      <td>0</td>\n",
       "      <td>0</td>\n",
       "      <td>0</td>\n",
       "      <td>0</td>\n",
       "      <td>0</td>\n",
       "      <td>0</td>\n",
       "    </tr>\n",
       "    <tr>\n",
       "      <th>3</th>\n",
       "      <td>1 Angry Black Man</td>\n",
       "      <td>2018</td>\n",
       "      <td>Drama</td>\n",
       "      <td>\\nMike Anderson is a senior at the quintessent...</td>\n",
       "      <td>0</td>\n",
       "      <td>0</td>\n",
       "      <td>0</td>\n",
       "      <td>0</td>\n",
       "      <td>0</td>\n",
       "      <td>0</td>\n",
       "      <td>...</td>\n",
       "      <td>0</td>\n",
       "      <td>0</td>\n",
       "      <td>0</td>\n",
       "      <td>0</td>\n",
       "      <td>0</td>\n",
       "      <td>0</td>\n",
       "      <td>0</td>\n",
       "      <td>0</td>\n",
       "      <td>0</td>\n",
       "      <td>0</td>\n",
       "    </tr>\n",
       "    <tr>\n",
       "      <th>4</th>\n",
       "      <td>1 Dead man, 6 Suspects, $65 Million</td>\n",
       "      <td>2018</td>\n",
       "      <td>Mystery</td>\n",
       "      <td>\\nA low budget but slick \"who done it\" involvi...</td>\n",
       "      <td>0</td>\n",
       "      <td>0</td>\n",
       "      <td>0</td>\n",
       "      <td>0</td>\n",
       "      <td>0</td>\n",
       "      <td>0</td>\n",
       "      <td>...</td>\n",
       "      <td>1</td>\n",
       "      <td>0</td>\n",
       "      <td>0</td>\n",
       "      <td>0</td>\n",
       "      <td>0</td>\n",
       "      <td>0</td>\n",
       "      <td>0</td>\n",
       "      <td>0</td>\n",
       "      <td>0</td>\n",
       "      <td>0</td>\n",
       "    </tr>\n",
       "  </tbody>\n",
       "</table>\n",
       "<p>5 rows × 28 columns</p>\n",
       "</div>"
      ],
      "text/plain": [
       "                                 movie  year            genres  \\\n",
       "0                           #1915House  2018  Horror, Thriller   \n",
       "1                          #SquadGoals  2018   Drama, Thriller   \n",
       "2                            #Victoria  2018     Action, Drama   \n",
       "3                    1 Angry Black Man  2018             Drama   \n",
       "4  1 Dead man, 6 Suspects, $65 Million  2018           Mystery   \n",
       "\n",
       "                                        descriptions  Action  Adventure  \\\n",
       "0  \\nA century of secrets are hidden behind the f...       0          0   \n",
       "1  \\nSamantha is a serious journalist, both for t...       0          0   \n",
       "2  \\nVictoria moves from out of town into the poo...       1          0   \n",
       "3  \\nMike Anderson is a senior at the quintessent...       0          0   \n",
       "4  \\nA low budget but slick \"who done it\" involvi...       0          0   \n",
       "\n",
       "   Animation  Biography  Comedy  Crime  ...  Mystery  News  Reality-TV  \\\n",
       "0          0          0       0      0  ...        0     0           0   \n",
       "1          0          0       0      0  ...        0     0           0   \n",
       "2          0          0       0      0  ...        0     0           0   \n",
       "3          0          0       0      0  ...        0     0           0   \n",
       "4          0          0       0      0  ...        1     0           0   \n",
       "\n",
       "   Romance  Sci-Fi  Sport  Talk-Show  Thriller  War  Western  \n",
       "0        0       0      0          0         1    0        0  \n",
       "1        0       0      0          0         1    0        0  \n",
       "2        0       0      0          0         0    0        0  \n",
       "3        0       0      0          0         0    0        0  \n",
       "4        0       0      0          0         0    0        0  \n",
       "\n",
       "[5 rows x 28 columns]"
      ]
     },
     "execution_count": 68,
     "metadata": {},
     "output_type": "execute_result"
    }
   ],
   "source": [
    "for g in all_genres:\n",
    "  df[g] = df[\"genres\"].apply(lambda x: 1 if len(set(x.split(\", \")).intersection(set([g]))) > 0 else 0)\n",
    "df.head()"
   ]
  },
  {
   "cell_type": "code",
   "execution_count": 69,
   "metadata": {},
   "outputs": [],
   "source": [
    "df.descriptions = df.descriptions.str.strip()"
   ]
  },
  {
   "cell_type": "code",
   "execution_count": 70,
   "metadata": {},
   "outputs": [
    {
     "data": {
      "text/plain": [
       "array(['Kabir is a lonely medical student in New York, estranged from his wife and grieving the loss of his mother. When he meets Kioni, a charming film student from Kenya, she persuades him to ...                See full summary\\xa0»'],\n",
       "      dtype=object)"
      ]
     },
     "execution_count": 70,
     "metadata": {},
     "output_type": "execute_result"
    }
   ],
   "source": [
    "df.descriptions[df.movie == 'A New Christmas'].values"
   ]
  },
  {
   "cell_type": "code",
   "execution_count": 57,
   "metadata": {},
   "outputs": [],
   "source": [
    "#df.drop(['genres'], axis='columns', inplace=True)"
   ]
  },
  {
   "cell_type": "code",
   "execution_count": 76,
   "metadata": {
    "scrolled": true
   },
   "outputs": [],
   "source": [
    "#df.to_pickle('df.pickle')"
   ]
  },
  {
   "cell_type": "code",
   "execution_count": 2,
   "metadata": {},
   "outputs": [
    {
     "data": {
      "text/html": [
       "<div>\n",
       "<style scoped>\n",
       "    .dataframe tbody tr th:only-of-type {\n",
       "        vertical-align: middle;\n",
       "    }\n",
       "\n",
       "    .dataframe tbody tr th {\n",
       "        vertical-align: top;\n",
       "    }\n",
       "\n",
       "    .dataframe thead th {\n",
       "        text-align: right;\n",
       "    }\n",
       "</style>\n",
       "<table border=\"1\" class=\"dataframe\">\n",
       "  <thead>\n",
       "    <tr style=\"text-align: right;\">\n",
       "      <th></th>\n",
       "      <th>movie</th>\n",
       "      <th>year</th>\n",
       "      <th>genres</th>\n",
       "      <th>descriptions</th>\n",
       "      <th>Action</th>\n",
       "      <th>Adventure</th>\n",
       "      <th>Animation</th>\n",
       "      <th>Biography</th>\n",
       "      <th>Comedy</th>\n",
       "      <th>Crime</th>\n",
       "      <th>...</th>\n",
       "      <th>Mystery</th>\n",
       "      <th>News</th>\n",
       "      <th>Reality-TV</th>\n",
       "      <th>Romance</th>\n",
       "      <th>Sci-Fi</th>\n",
       "      <th>Sport</th>\n",
       "      <th>Talk-Show</th>\n",
       "      <th>Thriller</th>\n",
       "      <th>War</th>\n",
       "      <th>Western</th>\n",
       "    </tr>\n",
       "  </thead>\n",
       "  <tbody>\n",
       "    <tr>\n",
       "      <th>12360</th>\n",
       "      <td>Zone Drifter</td>\n",
       "      <td>2021</td>\n",
       "      <td>Sci-Fi</td>\n",
       "      <td>In the distant future, a former soldier battle...</td>\n",
       "      <td>0</td>\n",
       "      <td>0</td>\n",
       "      <td>0</td>\n",
       "      <td>0</td>\n",
       "      <td>0</td>\n",
       "      <td>0</td>\n",
       "      <td>...</td>\n",
       "      <td>0</td>\n",
       "      <td>0</td>\n",
       "      <td>0</td>\n",
       "      <td>0</td>\n",
       "      <td>1</td>\n",
       "      <td>0</td>\n",
       "      <td>0</td>\n",
       "      <td>0</td>\n",
       "      <td>0</td>\n",
       "      <td>0</td>\n",
       "    </tr>\n",
       "    <tr>\n",
       "      <th>12361</th>\n",
       "      <td>Zooey</td>\n",
       "      <td>2021</td>\n",
       "      <td>Comedy, Drama, Sci-Fi</td>\n",
       "      <td>When a young boy, Noah, meets Zooey, a young g...</td>\n",
       "      <td>0</td>\n",
       "      <td>0</td>\n",
       "      <td>0</td>\n",
       "      <td>0</td>\n",
       "      <td>1</td>\n",
       "      <td>0</td>\n",
       "      <td>...</td>\n",
       "      <td>0</td>\n",
       "      <td>0</td>\n",
       "      <td>0</td>\n",
       "      <td>0</td>\n",
       "      <td>1</td>\n",
       "      <td>0</td>\n",
       "      <td>0</td>\n",
       "      <td>0</td>\n",
       "      <td>0</td>\n",
       "      <td>0</td>\n",
       "    </tr>\n",
       "    <tr>\n",
       "      <th>12362</th>\n",
       "      <td>Zwtral</td>\n",
       "      <td>2021</td>\n",
       "      <td>Mystery</td>\n",
       "      <td>Making trades is his life. Justin finds himsel...</td>\n",
       "      <td>0</td>\n",
       "      <td>0</td>\n",
       "      <td>0</td>\n",
       "      <td>0</td>\n",
       "      <td>0</td>\n",
       "      <td>0</td>\n",
       "      <td>...</td>\n",
       "      <td>1</td>\n",
       "      <td>0</td>\n",
       "      <td>0</td>\n",
       "      <td>0</td>\n",
       "      <td>0</td>\n",
       "      <td>0</td>\n",
       "      <td>0</td>\n",
       "      <td>0</td>\n",
       "      <td>0</td>\n",
       "      <td>0</td>\n",
       "    </tr>\n",
       "    <tr>\n",
       "      <th>12363</th>\n",
       "      <td>bUMS</td>\n",
       "      <td>2021</td>\n",
       "      <td>Drama</td>\n",
       "      <td>After spending decades surviving on the street...</td>\n",
       "      <td>0</td>\n",
       "      <td>0</td>\n",
       "      <td>0</td>\n",
       "      <td>0</td>\n",
       "      <td>0</td>\n",
       "      <td>0</td>\n",
       "      <td>...</td>\n",
       "      <td>0</td>\n",
       "      <td>0</td>\n",
       "      <td>0</td>\n",
       "      <td>0</td>\n",
       "      <td>0</td>\n",
       "      <td>0</td>\n",
       "      <td>0</td>\n",
       "      <td>0</td>\n",
       "      <td>0</td>\n",
       "      <td>0</td>\n",
       "    </tr>\n",
       "    <tr>\n",
       "      <th>12364</th>\n",
       "      <td>d'ILLUSION: The Houdini Musical</td>\n",
       "      <td>2021</td>\n",
       "      <td>Biography, Drama, Musical</td>\n",
       "      <td>The University of Cincinnati - College-Conserv...</td>\n",
       "      <td>0</td>\n",
       "      <td>0</td>\n",
       "      <td>0</td>\n",
       "      <td>1</td>\n",
       "      <td>0</td>\n",
       "      <td>0</td>\n",
       "      <td>...</td>\n",
       "      <td>0</td>\n",
       "      <td>0</td>\n",
       "      <td>0</td>\n",
       "      <td>0</td>\n",
       "      <td>0</td>\n",
       "      <td>0</td>\n",
       "      <td>0</td>\n",
       "      <td>0</td>\n",
       "      <td>0</td>\n",
       "      <td>0</td>\n",
       "    </tr>\n",
       "  </tbody>\n",
       "</table>\n",
       "<p>5 rows × 28 columns</p>\n",
       "</div>"
      ],
      "text/plain": [
       "                                 movie  year                     genres  \\\n",
       "12360                     Zone Drifter  2021                     Sci-Fi   \n",
       "12361                            Zooey  2021      Comedy, Drama, Sci-Fi   \n",
       "12362                           Zwtral  2021                    Mystery   \n",
       "12363                             bUMS  2021                      Drama   \n",
       "12364  d'ILLUSION: The Houdini Musical  2021  Biography, Drama, Musical   \n",
       "\n",
       "                                            descriptions  Action  Adventure  \\\n",
       "12360  In the distant future, a former soldier battle...       0          0   \n",
       "12361  When a young boy, Noah, meets Zooey, a young g...       0          0   \n",
       "12362  Making trades is his life. Justin finds himsel...       0          0   \n",
       "12363  After spending decades surviving on the street...       0          0   \n",
       "12364  The University of Cincinnati - College-Conserv...       0          0   \n",
       "\n",
       "       Animation  Biography  Comedy  Crime  ...  Mystery  News  Reality-TV  \\\n",
       "12360          0          0       0      0  ...        0     0           0   \n",
       "12361          0          0       1      0  ...        0     0           0   \n",
       "12362          0          0       0      0  ...        1     0           0   \n",
       "12363          0          0       0      0  ...        0     0           0   \n",
       "12364          0          1       0      0  ...        0     0           0   \n",
       "\n",
       "       Romance  Sci-Fi  Sport  Talk-Show  Thriller  War  Western  \n",
       "12360        0       1      0          0         0    0        0  \n",
       "12361        0       1      0          0         0    0        0  \n",
       "12362        0       0      0          0         0    0        0  \n",
       "12363        0       0      0          0         0    0        0  \n",
       "12364        0       0      0          0         0    0        0  \n",
       "\n",
       "[5 rows x 28 columns]"
      ]
     },
     "execution_count": 2,
     "metadata": {},
     "output_type": "execute_result"
    }
   ],
   "source": [
    "df = pd.read_pickle('df.pickle')\n",
    "df.tail()"
   ]
  },
  {
   "cell_type": "code",
   "execution_count": 3,
   "metadata": {},
   "outputs": [],
   "source": [
    "import nltk\n",
    "from nltk.stem.porter import *\n",
    "from nltk.tokenize import sent_tokenize, word_tokenize\n",
    "from nltk.corpus import stopwords\n",
    "from nltk.stem.porter import *\n",
    "\n",
    "from sklearn.feature_extraction.text import TfidfVectorizer\n",
    "from sklearn.model_selection import train_test_split\n",
    "from sklearn.ensemble import RandomForestClassifier\n",
    "from sklearn.metrics import f1_score\n",
    "from sklearn.feature_extraction.text import TfidfTransformer\n",
    "from sklearn.feature_extraction.text import CountVectorizer\n",
    "import pickle"
   ]
  },
  {
   "cell_type": "code",
   "execution_count": 4,
   "metadata": {},
   "outputs": [],
   "source": [
    "def stopword_removal(x, stpws=stopwords.words(\"english\")):\n",
    "  return list(set(x).difference(set(stpws)))\n",
    "\n",
    "def lemmatization(x, stemmer=PorterStemmer()):\n",
    "  return [stemmer.stem(i) for i in x]\n",
    "\n",
    "def number_removal(x):\n",
    "  return [i for i in x if not i.isnumeric()]"
   ]
  },
  {
   "cell_type": "code",
   "execution_count": 5,
   "metadata": {},
   "outputs": [],
   "source": [
    "df[\"corpus\"] = df[\"descriptions\"].apply(lambda x: word_tokenize(x))\n",
    "df[\"corpus\"] = df[\"corpus\"].apply(lambda x: stopword_removal(x))\n",
    "df[\"corpus\"] = df[\"corpus\"].apply(lambda x: lemmatization(x))\n",
    "df[\"corpus\"] = df[\"corpus\"].apply(lambda x: number_removal(x))\n",
    "df[\"corpus\"] = df[\"corpus\"].apply(lambda x: \" \".join(x))\n",
    "corpus = df[\"corpus\"].tolist()"
   ]
  },
  {
   "cell_type": "code",
   "execution_count": 6,
   "metadata": {},
   "outputs": [],
   "source": [
    "vectorizer = TfidfVectorizer()\n",
    "tfidf = vectorizer.fit_transform(corpus)\n",
    "X = tfidf.toarray()\n",
    "y = df.iloc[:, 4:28].values"
   ]
  },
  {
   "cell_type": "code",
   "execution_count": 65,
   "metadata": {},
   "outputs": [
    {
     "data": {
      "text/plain": [
       "array([[0., 0., 0., ..., 0., 0., 0.],\n",
       "       [0., 0., 0., ..., 0., 0., 0.],\n",
       "       [0., 0., 0., ..., 0., 0., 0.],\n",
       "       ...,\n",
       "       [0., 0., 0., ..., 0., 0., 0.],\n",
       "       [0., 0., 0., ..., 0., 0., 0.],\n",
       "       [0., 0., 0., ..., 0., 0., 0.]])"
      ]
     },
     "execution_count": 65,
     "metadata": {},
     "output_type": "execute_result"
    }
   ],
   "source": [
    "X"
   ]
  },
  {
   "cell_type": "code",
   "execution_count": 66,
   "metadata": {},
   "outputs": [
    {
     "data": {
      "text/plain": [
       "(12365, 15953)"
      ]
     },
     "execution_count": 66,
     "metadata": {},
     "output_type": "execute_result"
    }
   ],
   "source": [
    "X.shape"
   ]
  },
  {
   "cell_type": "code",
   "execution_count": 68,
   "metadata": {},
   "outputs": [
    {
     "data": {
      "text/plain": [
       "array([[0, 0, 0, ..., 1, 0, 0],\n",
       "       [0, 0, 0, ..., 1, 0, 0],\n",
       "       [1, 0, 0, ..., 0, 0, 0],\n",
       "       ...,\n",
       "       [0, 0, 0, ..., 0, 0, 0],\n",
       "       [0, 0, 0, ..., 0, 0, 0],\n",
       "       [0, 0, 0, ..., 0, 0, 0]], dtype=int64)"
      ]
     },
     "execution_count": 68,
     "metadata": {},
     "output_type": "execute_result"
    }
   ],
   "source": [
    "y"
   ]
  },
  {
   "cell_type": "markdown",
   "metadata": {},
   "source": [
    "## Classification without LDA"
   ]
  },
  {
   "cell_type": "code",
   "execution_count": 12,
   "metadata": {},
   "outputs": [],
   "source": [
    "X_train, X_test, y_train, y_test = train_test_split(X, y, random_state=42, test_size=0.2)"
   ]
  },
  {
   "cell_type": "code",
   "execution_count": 71,
   "metadata": {},
   "outputs": [
    {
     "data": {
      "text/plain": [
       "(9892, 15953)"
      ]
     },
     "execution_count": 71,
     "metadata": {},
     "output_type": "execute_result"
    }
   ],
   "source": [
    "X_train.shape"
   ]
  },
  {
   "cell_type": "code",
   "execution_count": 72,
   "metadata": {},
   "outputs": [
    {
     "data": {
      "text/plain": [
       "(2473, 15953)"
      ]
     },
     "execution_count": 72,
     "metadata": {},
     "output_type": "execute_result"
    }
   ],
   "source": [
    "X_test.shape"
   ]
  },
  {
   "cell_type": "code",
   "execution_count": 73,
   "metadata": {},
   "outputs": [
    {
     "data": {
      "text/plain": [
       "(9892, 24)"
      ]
     },
     "execution_count": 73,
     "metadata": {},
     "output_type": "execute_result"
    }
   ],
   "source": [
    "y_train.shape"
   ]
  },
  {
   "cell_type": "code",
   "execution_count": 74,
   "metadata": {},
   "outputs": [
    {
     "data": {
      "text/plain": [
       "(2473, 24)"
      ]
     },
     "execution_count": 74,
     "metadata": {},
     "output_type": "execute_result"
    }
   ],
   "source": [
    "y_test.shape"
   ]
  },
  {
   "cell_type": "code",
   "execution_count": 75,
   "metadata": {},
   "outputs": [
    {
     "data": {
      "text/plain": [
       "RandomForestClassifier(random_state=42)"
      ]
     },
     "execution_count": 75,
     "metadata": {},
     "output_type": "execute_result"
    }
   ],
   "source": [
    "clf = RandomForestClassifier(random_state=42)\n",
    "clf.fit(X_train, y_train)"
   ]
  },
  {
   "cell_type": "code",
   "execution_count": 10,
   "metadata": {},
   "outputs": [],
   "source": [
    "filename = 'clf_withoutLDA.sav'\n",
    "# pickle.dump(clf, open(filename, 'wb'))\n",
    "loaded_model = pickle.load(open(filename, 'rb'))"
   ]
  },
  {
   "cell_type": "code",
   "execution_count": 13,
   "metadata": {},
   "outputs": [],
   "source": [
    "y_hat = loaded_model.predict(X_test)"
   ]
  },
  {
   "cell_type": "code",
   "execution_count": 14,
   "metadata": {},
   "outputs": [
    {
     "data": {
      "text/plain": [
       "['Action',\n",
       " 'Adventure',\n",
       " 'Animation',\n",
       " 'Biography',\n",
       " 'Comedy',\n",
       " 'Crime',\n",
       " 'Drama',\n",
       " 'Family',\n",
       " 'Fantasy',\n",
       " 'Game-Show',\n",
       " 'History',\n",
       " 'Horror',\n",
       " 'Music',\n",
       " 'Musical',\n",
       " 'Mystery',\n",
       " 'News',\n",
       " 'Reality-TV',\n",
       " 'Romance',\n",
       " 'Sci-Fi',\n",
       " 'Sport',\n",
       " 'Talk-Show',\n",
       " 'Thriller',\n",
       " 'War',\n",
       " 'Western']"
      ]
     },
     "execution_count": 14,
     "metadata": {},
     "output_type": "execute_result"
    }
   ],
   "source": [
    "all_genres = df.genres.tolist()\n",
    "all_genres = \", \".join(all_genres)\n",
    "all_genres = sorted(list(set(all_genres.split(\", \"))))\n",
    "all_genres"
   ]
  },
  {
   "cell_type": "code",
   "execution_count": 15,
   "metadata": {},
   "outputs": [
    {
     "name": "stderr",
     "output_type": "stream",
     "text": [
      "C:\\Users\\SUNG\\anaconda3\\lib\\site-packages\\sklearn\\metrics\\_classification.py:1464: UndefinedMetricWarning: F-score is ill-defined and being set to 0.0 due to no true nor predicted samples. Use `zero_division` parameter to control this behavior.\n",
      "  _warn_prf(\n"
     ]
    }
   ],
   "source": [
    "f1 = []\n",
    "for i in range(len(all_genres)):\n",
    "  f1.append(f1_score(y_test[:, i], y_hat[:, i]))"
   ]
  },
  {
   "cell_type": "code",
   "execution_count": 16,
   "metadata": {},
   "outputs": [],
   "source": [
    "from skmultilearn.problem_transform import LabelPowerset\n",
    "\n",
    "classifier = LabelPowerset(RandomForestClassifier(random_state=42))\n",
    "\n",
    "# train\n",
    "classifier.fit(X_train, y_train)\n",
    "\n",
    "# predict\n",
    "y_hat = loaded_model.predict(X_test)"
   ]
  },
  {
   "cell_type": "markdown",
   "metadata": {},
   "source": [
    "## Classification with LDA"
   ]
  },
  {
   "cell_type": "code",
   "execution_count": null,
   "metadata": {},
   "outputs": [],
   "source": [
    "from sklearn.decomposition import LatentDirichletAllocation\n",
    "\n",
    "lda = LatentDirichletAllocation(n_components=5, random_state=0)\n"
   ]
  },
  {
   "cell_type": "code",
   "execution_count": null,
   "metadata": {},
   "outputs": [],
   "source": []
  }
 ],
 "metadata": {
  "kernelspec": {
   "display_name": "Python 3",
   "language": "python",
   "name": "python3"
  },
  "language_info": {
   "codemirror_mode": {
    "name": "ipython",
    "version": 3
   },
   "file_extension": ".py",
   "mimetype": "text/x-python",
   "name": "python",
   "nbconvert_exporter": "python",
   "pygments_lexer": "ipython3",
   "version": "3.8.3"
  }
 },
 "nbformat": 4,
 "nbformat_minor": 4
}
